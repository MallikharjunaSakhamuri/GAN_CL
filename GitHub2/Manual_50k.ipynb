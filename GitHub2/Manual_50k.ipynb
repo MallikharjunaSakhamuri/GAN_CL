{
 "cells": [
  {
   "cell_type": "code",
   "execution_count": 1,
   "id": "5379f427",
   "metadata": {},
   "outputs": [
    {
     "name": "stderr",
     "output_type": "stream",
     "text": [
      "C:\\Users\\Malli\\anaconda3\\envs\\baceenv\\lib\\site-packages\\torch_geometric\\typing.py:86: UserWarning: An issue occurred while importing 'torch-scatter'. Disabling its usage. Stacktrace: [WinError 127] The specified procedure could not be found\n",
      "  warnings.warn(f\"An issue occurred while importing 'torch-scatter'. \"\n"
     ]
    }
   ],
   "source": [
    "import torch\n",
    "from rdkit import Chem\n",
    "from rdkit.Chem import AllChem, Descriptors\n",
    "from typing import Tuple\n",
    "import numpy as np\n",
    "from torch_geometric.data import Data\n",
    "import random\n",
    "from torch_geometric.loader import DataLoader\n",
    "from torch_geometric.data import Data\n",
    "from rdkit import RDLogger\n",
    "from rdkit.Chem import RemoveHs\n",
    "from datetime import datetime\n",
    "\n",
    "import torch\n",
    "import numpy as np\n",
    "from torch_geometric.data import DataLoader\n",
    "import os\n",
    "import json\n",
    "from tqdm import tqdm\n",
    "import pickle\n",
    "from datetime import datetime\n",
    "\n",
    "import torch\n",
    "import torch.nn as nn\n",
    "import torch.nn.functional as F\n",
    "from torch_geometric.nn import GCNConv, global_mean_pool, MessagePassing\n",
    "from typing import Tuple, List, Optional\n",
    "import copy\n",
    "from dataclasses import dataclass\n",
    "\n",
    "import numpy as np\n",
    "import torch\n",
    "from rdkit import Chem\n",
    "from rdkit.Chem import AllChem, Descriptors\n",
    "from rdkit.Chem.EnumerateStereoisomers import EnumerateStereoisomers, StereoEnumerationOptions\n",
    "from tqdm import tqdm\n",
    "import random\n",
    "import copy\n",
    "from torch_geometric.data import Data, Batch, DataLoader\n",
    "import os\n",
    "import pickle\n",
    "from datetime import datetime\n",
    "\n",
    "# Suppress RDKit warnings\n",
    "RDLogger.DisableLog('rdApp.warning')\n",
    "timestamp = datetime.now().strftime('%Y%m%d_%H%M%S')"
   ]
  },
  {
   "cell_type": "code",
   "execution_count": 2,
   "id": "8de17bc6",
   "metadata": {},
   "outputs": [],
   "source": [
    "class MolecularFeatureExtractor:\n",
    "    def __init__(self):\n",
    "        self.atom_list = list(range(1, 119))\n",
    "        self.chirality_list = [\n",
    "            Chem.rdchem.ChiralType.CHI_UNSPECIFIED,\n",
    "            Chem.rdchem.ChiralType.CHI_TETRAHEDRAL_CW,\n",
    "            Chem.rdchem.ChiralType.CHI_TETRAHEDRAL_CCW,\n",
    "            Chem.rdchem.ChiralType.CHI_OTHER\n",
    "        ]\n",
    "        self.bond_list = [\n",
    "            Chem.rdchem.BondType.SINGLE,\n",
    "            Chem.rdchem.BondType.DOUBLE, \n",
    "            Chem.rdchem.BondType.TRIPLE,\n",
    "            Chem.rdchem.BondType.AROMATIC\n",
    "        ]\n",
    "        self.bonddir_list = [\n",
    "            Chem.rdchem.BondDir.NONE,\n",
    "            Chem.rdchem.BondDir.ENDUPRIGHT,\n",
    "            Chem.rdchem.BondDir.ENDDOWNRIGHT\n",
    "        ]\n",
    "\n",
    "    def calc_atom_features(self, atom: Chem.Atom) -> Tuple[list, list]:\n",
    "        \"\"\"Calculate atom features with better error handling\"\"\"\n",
    "        try:\n",
    "            # Basic features\n",
    "            atom_feat = [\n",
    "                self.atom_list.index(atom.GetAtomicNum()),\n",
    "                self.chirality_list.index(atom.GetChiralTag())\n",
    "            ]\n",
    "\n",
    "            # Physical features with error handling\n",
    "            phys_feat = []\n",
    "            \n",
    "            # Molecular weight contribution\n",
    "            try:\n",
    "                contrib_mw = Descriptors.ExactMolWt(Chem.MolFromSmiles(f'[{atom.GetSymbol()}]'))\n",
    "                phys_feat.append(contrib_mw)\n",
    "            except:\n",
    "                phys_feat.append(0.0)\n",
    "                \n",
    "            # LogP contribution    \n",
    "            try:\n",
    "                contrib_logp = Descriptors.MolLogP(Chem.MolFromSmiles(f'[{atom.GetSymbol()}]'))\n",
    "                phys_feat.append(contrib_logp)\n",
    "            except:\n",
    "                phys_feat.append(0.0)\n",
    "                \n",
    "            # Add other physical properties\n",
    "            phys_feat.extend([\n",
    "                atom.GetFormalCharge(),\n",
    "                int(atom.GetHybridization()),\n",
    "                int(atom.GetIsAromatic()),\n",
    "                atom.GetTotalNumHs(),\n",
    "                atom.GetTotalValence(),\n",
    "                atom.GetDegree()\n",
    "            ])\n",
    "            \n",
    "            return atom_feat, phys_feat\n",
    "            \n",
    "        except Exception as e:\n",
    "            print(f\"Error calculating atom features: {e}\")\n",
    "            return [0, 0], [0.0] * 9\n",
    "\n",
    "    def get_atom_features(self, mol: Chem.Mol) -> Tuple[torch.Tensor, torch.Tensor]:\n",
    "        \"\"\"Extract atom features for the whole molecule\"\"\"\n",
    "        atom_feats = []\n",
    "        phys_feats = []\n",
    "        \n",
    "        if mol is None:\n",
    "            return torch.tensor([[0, 0]], dtype=torch.long), torch.tensor([[0.0] * 9], dtype=torch.float)\n",
    "            \n",
    "        for atom in mol.GetAtoms():\n",
    "            atom_feat, phys_feat = self.calc_atom_features(atom)\n",
    "            atom_feats.append(atom_feat)\n",
    "            phys_feats.append(phys_feat)\n",
    "\n",
    "        x = torch.tensor(atom_feats, dtype=torch.long)\n",
    "        phys = torch.tensor(phys_feats, dtype=torch.float)\n",
    "        \n",
    "        return x, phys\n",
    "    \n",
    "    def remove_unbonded_hydrogens(mol):\n",
    "        params = Chem.RemoveHsParameters()\n",
    "        params.removeDegreeZero = True\n",
    "        mol = Chem.RemoveHs(mol, params)\n",
    "        return mol\n",
    "\n",
    "\n",
    "    def get_bond_features(self, mol: Chem.Mol) -> Tuple[torch.Tensor, torch.Tensor]:\n",
    "        \"\"\"Extract bond features with better error handling\"\"\"\n",
    "        if mol is None:\n",
    "            return torch.tensor([[0], [0]], dtype=torch.long), torch.tensor([[0.0] * 5], dtype=torch.float)\n",
    "            \n",
    "        row, col, edge_feat = [], [], []\n",
    "        \n",
    "        for bond in mol.GetBonds():\n",
    "            try:\n",
    "                start, end = bond.GetBeginAtomIdx(), bond.GetEndAtomIdx()\n",
    "                \n",
    "                # Add edges in both directions\n",
    "                row += [start, end]\n",
    "                col += [end, start]\n",
    "                \n",
    "                # Bond features\n",
    "                bond_type = self.bond_list.index(bond.GetBondType())\n",
    "                bond_dir = self.bonddir_list.index(bond.GetBondDir())\n",
    "                \n",
    "                # Calculate additional properties\n",
    "                feat = [\n",
    "                    bond_type,\n",
    "                    bond_dir,\n",
    "                    int(bond.GetIsConjugated()),\n",
    "                    int(self._is_rotatable(bond)),\n",
    "                    self._get_bond_length(mol, start, end)\n",
    "                ]\n",
    "                \n",
    "                edge_feat.extend([feat, feat])\n",
    "                \n",
    "            except Exception as e:\n",
    "                print(f\"Error processing bond: {e}\")\n",
    "                continue\n",
    "\n",
    "        if not row:  # If no valid bonds were processed\n",
    "            return torch.tensor([[0], [0]], dtype=torch.long), torch.tensor([[0.0] * 5], dtype=torch.float)\n",
    "\n",
    "        edge_index = torch.tensor([row, col], dtype=torch.long)\n",
    "        edge_attr = torch.tensor(edge_feat, dtype=torch.float)\n",
    "        \n",
    "        return edge_index, edge_attr\n",
    "\n",
    "    def _is_rotatable(self, bond: Chem.Bond) -> bool:\n",
    "        \"\"\"Check if bond is rotatable\"\"\"\n",
    "        return (bond.GetBondType() == Chem.rdchem.BondType.SINGLE and \n",
    "                not bond.IsInRing() and\n",
    "                len(bond.GetBeginAtom().GetNeighbors()) > 1 and\n",
    "                len(bond.GetEndAtom().GetNeighbors()) > 1)\n",
    "\n",
    "    def _get_bond_length(self, mol: Chem.Mol, start: int, end: int) -> float:\n",
    "        \"\"\"Get bond length with error handling\"\"\"\n",
    "        try:\n",
    "            conf = mol.GetConformer()\n",
    "            if conf.Is3D():\n",
    "                return Chem.rdMolTransforms.GetBondLength(conf, start, end)\n",
    "        except:\n",
    "            pass\n",
    "        return 0.0\n",
    "\n",
    "    def process_molecule(self, smiles: str) -> Data:\n",
    "        \"\"\"Process SMILES string to graph data\"\"\"\n",
    "        try:\n",
    "            mol = Chem.MolFromSmiles(smiles)\n",
    "            if mol is None:\n",
    "                print(f\"Invalid SMILES: {smiles}\")\n",
    "                return None  # Skip invalid molecules\n",
    "            mol = RemoveHs(mol)\n",
    "\n",
    "            # Add explicit hydrogens\n",
    "            mol = Chem.AddHs(mol, addCoords=True)\n",
    "\n",
    "            # Sanitize molecule\n",
    "            Chem.SanitizeMol(mol)\n",
    "\n",
    "            # Check if the molecule has atoms\n",
    "            if mol.GetNumAtoms() == 0:\n",
    "                print(\"Molecule has no atoms, skipping.\")\n",
    "                return None\n",
    "\n",
    "            # Generate 3D coordinates\n",
    "            if not mol.GetNumConformers():\n",
    "                status = AllChem.EmbedMolecule(mol, AllChem.ETKDG())\n",
    "                if status != 0:\n",
    "                    print(\"Failed to generate 3D conformer\")\n",
    "                    return None  # Skip failed molecules\n",
    "\n",
    "                # Try MMFF or UFF optimization\n",
    "                try:\n",
    "                    AllChem.MMFFOptimizeMolecule(mol)\n",
    "                except:\n",
    "                    AllChem.UFFOptimizeMolecule(mol)\n",
    "\n",
    "            # Extract features\n",
    "            x_cat, x_phys = self.get_atom_features(mol)\n",
    "            edge_index, edge_attr = self.get_bond_features(mol)\n",
    "\n",
    "            return Data(\n",
    "                x_cat=x_cat, \n",
    "                x_phys=x_phys,\n",
    "                edge_index=edge_index, \n",
    "                edge_attr=edge_attr,\n",
    "                num_nodes=x_cat.size(0)\n",
    "            )\n",
    "\n",
    "        except Exception as e:\n",
    "            print(f\"Error processing molecule {smiles}: {e}\")\n",
    "            return None\n"
   ]
  },
  {
   "cell_type": "code",
   "execution_count": 3,
   "id": "35a311ed",
   "metadata": {},
   "outputs": [],
   "source": [
    "import numpy as np\n",
    "import torch\n",
    "from rdkit import Chem\n",
    "from rdkit.Chem import AllChem, Descriptors\n",
    "from rdkit.Chem.EnumerateStereoisomers import EnumerateStereoisomers, StereoEnumerationOptions\n",
    "from tqdm import tqdm\n",
    "import random\n",
    "import copy\n",
    "from torch_geometric.data import Data, Batch, DataLoader\n",
    "import os\n",
    "import pickle\n",
    "from rdkit.Chem import MolStandardize\n",
    "from collections import defaultdict\n",
    "\n",
    "class MolecularAugmenter:\n",
    "    \"\"\"Class for applying chemical augmentations to molecules\"\"\"\n",
    "    \n",
    "    def __init__(self, smiles_list, feature_extractor=None, seed=42):\n",
    "        \"\"\"\n",
    "        Args:\n",
    "            smiles_list: List of SMILES strings to augment\n",
    "            feature_extractor: The feature extractor used to convert SMILES to graph data\n",
    "            seed: Random seed for reproducibility\n",
    "        \"\"\"\n",
    "        self.smiles_list = smiles_list\n",
    "        self.feature_extractor = feature_extractor\n",
    "        random.seed(seed)\n",
    "        np.random.seed(seed)\n",
    "        \n",
    "        # Don't use MolStandardize since it's not available in this version\n",
    "        # We'll implement our own simple standardization function\n",
    "            \n",
    "    def standardize_mol(self, mol):\n",
    "        \"\"\"Standardize a molecule to ensure consistency\"\"\"\n",
    "        if mol is None:\n",
    "            return None\n",
    "        try:\n",
    "            # Basic standardization\n",
    "            mol = Chem.RemoveHs(mol)\n",
    "            Chem.SanitizeMol(mol)\n",
    "            return mol\n",
    "        except:\n",
    "            return None\n",
    "            \n",
    "    def add_remove_hydrogen(self, mol):\n",
    "        \"\"\"Add or remove hydrogen atoms from the molecule\"\"\"\n",
    "        if mol is None:\n",
    "            return None\n",
    "        \n",
    "        try:\n",
    "            # 50% chance to add hydrogens, 50% chance to remove them\n",
    "            if random.random() < 0.5:\n",
    "                # Add hydrogens\n",
    "                mol = Chem.AddHs(mol)\n",
    "            else:\n",
    "                # Remove hydrogens\n",
    "                mol = Chem.RemoveHs(mol)\n",
    "                \n",
    "            return mol\n",
    "        except:\n",
    "            return mol\n",
    "            \n",
    "    def change_bond_order(self, mol):\n",
    "        \"\"\"Change the order of a random bond (single↔double, triple↔double)\"\"\"\n",
    "        if mol is None:\n",
    "            return None\n",
    "            \n",
    "        try:\n",
    "            # Make a copy to avoid modifying the original\n",
    "            mol_copy = Chem.Mol(mol)\n",
    "            \n",
    "            # Get all bonds\n",
    "            bonds = list(mol_copy.GetBonds())\n",
    "            if not bonds:\n",
    "                return mol_copy\n",
    "                \n",
    "            # Select a random bond\n",
    "            bond = random.choice(bonds)\n",
    "            bond_idx = bond.GetIdx()\n",
    "            bond_type = bond.GetBondType()\n",
    "            \n",
    "            # Change bond type\n",
    "            edit_mol = Chem.EditableMol(mol_copy)\n",
    "            \n",
    "            if bond_type == Chem.BondType.SINGLE:\n",
    "                edit_mol.ReplaceBond(bond_idx, Chem.BondType.DOUBLE)\n",
    "            elif bond_type == Chem.BondType.DOUBLE:\n",
    "                # 50% chance to go to single, 50% to triple\n",
    "                new_type = random.choice([Chem.BondType.SINGLE, Chem.BondType.TRIPLE])\n",
    "                edit_mol.ReplaceBond(bond_idx, new_type)\n",
    "            elif bond_type == Chem.BondType.TRIPLE:\n",
    "                edit_mol.ReplaceBond(bond_idx, Chem.BondType.DOUBLE)\n",
    "            \n",
    "            mod_mol = edit_mol.GetMol()\n",
    "            \n",
    "            # Check if the molecule is valid\n",
    "            try:\n",
    "                Chem.SanitizeMol(mod_mol)\n",
    "                return mod_mol\n",
    "            except:\n",
    "                return mol_copy\n",
    "        except:\n",
    "            return mol\n",
    "            \n",
    "    def enumerate_stereoisomer(self, mol):\n",
    "        \"\"\"Generate a random stereoisomer of the molecule\"\"\"\n",
    "        if mol is None:\n",
    "            return None\n",
    "            \n",
    "        try:\n",
    "            # Set up stereoisomer options\n",
    "            opts = StereoEnumerationOptions(tryEmbedding=True, maxIsomers=5)\n",
    "            \n",
    "            # Get all possible stereoisomers\n",
    "            isomers = list(EnumerateStereoisomers(mol, options=opts))\n",
    "            \n",
    "            if isomers:\n",
    "                # Return a random stereoisomer\n",
    "                return random.choice(isomers)\n",
    "            else:\n",
    "                return mol\n",
    "        except:\n",
    "            return mol\n",
    "            \n",
    "    def mutate_functional_group(self, mol):\n",
    "        \"\"\"Replace a functional group with another similar one\"\"\"\n",
    "        if mol is None:\n",
    "            return None\n",
    "            \n",
    "        # Define some functional group transformations\n",
    "        transformations = [\n",
    "            # Alcohol to ether\n",
    "            ('[OH]', '[OC]'),\n",
    "            # Carboxylic acid to ester\n",
    "            ('C(=O)[OH]', 'C(=O)OC'),\n",
    "            # Amide to ester\n",
    "            ('C(=O)[NH2]', 'C(=O)OC'),\n",
    "            # Amine to amide\n",
    "            ('[NH2]', '[NH]C(=O)C'),\n",
    "            # Ketone to aldehyde\n",
    "            ('C(=O)C', 'C(=O)[H]'),\n",
    "            # Ether to alcohol\n",
    "            ('COC', 'CO'),\n",
    "            # Nitro to amine\n",
    "            ('[N+](=O)[O-]', '[NH2]')\n",
    "        ]\n",
    "        \n",
    "        try:\n",
    "            # Choose a random transformation\n",
    "            old_pattern, new_pattern = random.choice(transformations)\n",
    "            \n",
    "            # Apply the transformation using SMILES replacement\n",
    "            smiles = Chem.MolToSmiles(mol)\n",
    "            old_pattern_mol = Chem.MolFromSmarts(old_pattern)\n",
    "            \n",
    "            if mol.HasSubstructMatch(old_pattern_mol):\n",
    "                # Create the replacement\n",
    "                modified_smiles = smiles.replace(old_pattern, new_pattern, 1)\n",
    "                new_mol = Chem.MolFromSmiles(modified_smiles)\n",
    "                \n",
    "                if new_mol is not None:\n",
    "                    return new_mol\n",
    "            \n",
    "            return mol\n",
    "        except:\n",
    "            return mol\n",
    "            \n",
    "    def change_atom(self, mol):\n",
    "        \"\"\"Substitute an atom with another from the same group\"\"\"\n",
    "        if mol is None:\n",
    "            return None\n",
    "            \n",
    "        # Define atom replacements (elements from same group tend to have similar properties)\n",
    "        replacements = {\n",
    "            'C': ['Si'],  # Carbon -> Silicon\n",
    "            'N': ['P'],   # Nitrogen -> Phosphorus\n",
    "            'O': ['S'],   # Oxygen -> Sulfur\n",
    "            'F': ['Cl', 'Br'],  # Halogen replacements\n",
    "            'Cl': ['F', 'Br'],\n",
    "            'Br': ['F', 'Cl'],\n",
    "            'S': ['O', 'Se']   # Sulfur -> Oxygen or Selenium\n",
    "        }\n",
    "        \n",
    "        try:\n",
    "            # Make an editable copy\n",
    "            edit_mol = Chem.EditableMol(Chem.Mol(mol))\n",
    "            atoms = list(mol.GetAtoms())\n",
    "            \n",
    "            if not atoms:\n",
    "                return mol\n",
    "                \n",
    "            # Select a random atom\n",
    "            atom = random.choice(atoms)\n",
    "            symbol = atom.GetSymbol()\n",
    "            \n",
    "            # Check if we have a replacement for this atom\n",
    "            if symbol in replacements and random.random() < 0.7:  # 70% chance to replace\n",
    "                new_symbol = random.choice(replacements[symbol])\n",
    "                new_atomic_num = Chem.GetPeriodicTable().GetAtomicNumber(new_symbol)\n",
    "                \n",
    "                # Replace the atom\n",
    "                edit_mol.ReplaceAtom(atom.GetIdx(), Chem.Atom(new_atomic_num))\n",
    "                \n",
    "                new_mol = edit_mol.GetMol()\n",
    "                \n",
    "                # Check if valid\n",
    "                try:\n",
    "                    Chem.SanitizeMol(new_mol)\n",
    "                    return new_mol\n",
    "                except:\n",
    "                    return mol\n",
    "            \n",
    "            return mol\n",
    "        except:\n",
    "            return mol\n",
    "    \n",
    "    def add_ring_substituent(self, mol):\n",
    "        \"\"\"Add a small substituent to a ring\"\"\"\n",
    "        if mol is None:\n",
    "            return None\n",
    "            \n",
    "        # Common substituents\n",
    "        substituents = [\n",
    "            ('c1ccccc1', 'c1ccccc1[C]'),  # Add methyl to benzene\n",
    "            ('c1ccccc1', 'c1ccccc1[O]'),  # Add hydroxyl to benzene\n",
    "            ('c1ccccc1', 'c1ccccc1[F]'),  # Add fluorine to benzene\n",
    "            ('c1ccccc1', 'c1ccccc1[Cl]'),  # Add chlorine to benzene\n",
    "            ('c1ccccc1', 'c1ccccc1[N]')   # Add amino to benzene\n",
    "        ]\n",
    "        \n",
    "        try:\n",
    "            # Choose a random substituent\n",
    "            old_pattern, new_pattern = random.choice(substituents)\n",
    "            \n",
    "            # Apply the transformation using SMILES replacement\n",
    "            smiles = Chem.MolToSmiles(mol)\n",
    "            old_pattern_mol = Chem.MolFromSmarts(old_pattern)\n",
    "            \n",
    "            if mol.HasSubstructMatch(old_pattern_mol):\n",
    "                # Create the replacement\n",
    "                modified_smiles = smiles.replace(old_pattern, new_pattern, 1)\n",
    "                new_mol = Chem.MolFromSmiles(modified_smiles)\n",
    "                \n",
    "                if new_mol is not None:\n",
    "                    return new_mol\n",
    "            \n",
    "            return mol\n",
    "        except:\n",
    "            return mol\n",
    "    \n",
    "    def apply_random_augmentation(self, mol):\n",
    "        \"\"\"Apply a random augmentation from the available methods\"\"\"\n",
    "        if mol is None:\n",
    "            return None\n",
    "            \n",
    "        # Define augmentation methods with their probabilities\n",
    "        augmentations = [\n",
    "            (self.add_remove_hydrogen, 0.1),\n",
    "            (self.change_bond_order, 0.2),\n",
    "            (self.enumerate_stereoisomer, 0.15),\n",
    "            (self.mutate_functional_group, 0.25),\n",
    "            (self.change_atom, 0.2),\n",
    "            (self.add_ring_substituent, 0.1)\n",
    "        ]\n",
    "        \n",
    "        # Normalize probabilities\n",
    "        total_prob = sum(prob for _, prob in augmentations)\n",
    "        normalized_probs = [prob / total_prob for _, prob in augmentations]\n",
    "        \n",
    "        # Select augmentation based on probability\n",
    "        aug_func = np.random.choice([aug for aug, _ in augmentations], p=normalized_probs)\n",
    "        \n",
    "        # Apply the selected augmentation\n",
    "        augmented_mol = aug_func(mol)\n",
    "        \n",
    "        # Standardize the result\n",
    "        return self.standardize_mol(augmented_mol)\n",
    "    \n",
    "    def generate_augmented_dataset(self, num_augmentations=1):  \n",
    "        \"\"\"Generate augmented dataset from original SMILES\"\"\"\n",
    "        augmented_data_list = []\n",
    "\n",
    "        for i, smiles in enumerate(tqdm(self.smiles_list, desc=\"Generating augmentations\")):\n",
    "            # Convert to molecule\n",
    "            mol = Chem.MolFromSmiles(smiles)\n",
    "\n",
    "            if mol is None:\n",
    "                continue\n",
    "\n",
    "            # Add the original molecule\n",
    "            if self.feature_extractor is not None:\n",
    "                original_data = self.feature_extractor.process_molecule(smiles)\n",
    "                if original_data is not None:\n",
    "                    # Store original SMILES as attribute\n",
    "                    original_data.smiles = smiles\n",
    "                    # Add the original_idx attribute to ALL objects for consistency\n",
    "                    original_data.original_idx = i\n",
    "                    augmented_data_list.append(original_data)\n",
    "\n",
    "            # Generate augmentations\n",
    "            augmented_mol = self.apply_random_augmentation(mol)\n",
    "\n",
    "            if augmented_mol is not None:\n",
    "                # Convert back to SMILES\n",
    "                aug_smiles = Chem.MolToSmiles(augmented_mol)\n",
    "\n",
    "                # Convert to graph data\n",
    "                if self.feature_extractor is not None:\n",
    "                    aug_data = self.feature_extractor.process_molecule(aug_smiles)\n",
    "                    if aug_data is not None:\n",
    "                        # Store SMILES as attribute\n",
    "                        aug_data.smiles = aug_smiles\n",
    "                        # Store the original molecule index for reference\n",
    "                        aug_data.original_idx = i\n",
    "                        augmented_data_list.append(aug_data)\n",
    "\n",
    "        return augmented_data_list\n",
    "\n",
    "def train_encoder_with_manual_augmentations(dataset, feature_extractor, output_dir='./embeddings', \n",
    "                                           batch_size=32, epochs=50, lr=1e-4, hidden_dim=128, \n",
    "                                           output_dim=128, device='cuda'):\n",
    "    \"\"\"Train encoder using manual augmentations\"\"\"\n",
    "    from torch_geometric.nn import GCNConv, global_mean_pool\n",
    "    import torch.nn as nn\n",
    "    import torch.nn.functional as F\n",
    "    import torch.optim as optim\n",
    "    from torch_geometric.data import Batch\n",
    "    \n",
    "    # Create output directory\n",
    "    os.makedirs(output_dir, exist_ok=True)\n",
    "    \n",
    "    # Extract SMILES strings for augmentation\n",
    "    smiles_list = []\n",
    "    for i, data in enumerate(dataset):\n",
    "        mol_id = f\"molecule_{i}\"\n",
    "        # If you have SMILES in the dataset, extract them\n",
    "        if hasattr(data, 'smiles'):\n",
    "            smiles_list.append(data.smiles)\n",
    "        else:\n",
    "            # Otherwise, try to convert PyG data to SMILES using RDKit\n",
    "            smiles = convert_pyg_to_smiles(data)\n",
    "            smiles_list.append(smiles)\n",
    "    \n",
    "    # Create augmenter and generate augmented dataset\n",
    "    augmenter = MolecularAugmenter(smiles_list, feature_extractor)\n",
    "    augmented_dataset = augmenter.generate_augmented_dataset(num_augmentations=1)\n",
    "    \n",
    "    print(f\"Generated {len(augmented_dataset)} augmented molecules (including originals)\")\n",
    "    \n",
    "    # Define custom collate function to handle additional attributes\n",
    "    def custom_collate(data_list):\n",
    "        keys_to_exclude = ['smiles', 'original_idx']  # Add any custom attributes here\n",
    "        \n",
    "        # Store the excluded attributes\n",
    "        excluded_data = {key: [getattr(data, key, None) for data in data_list] for key in keys_to_exclude}\n",
    "        \n",
    "        # Create batch without excluded keys\n",
    "        batch = Batch.from_data_list(data_list)\n",
    "        \n",
    "        # Add back the excluded attributes as lists\n",
    "        for key, values in excluded_data.items():\n",
    "            setattr(batch, key, values)\n",
    "            \n",
    "        return batch\n",
    "    \n",
    "    # Define the encoder model\n",
    "    class GraphEncoder(nn.Module):\n",
    "        def __init__(self, node_dim, edge_dim, hidden_dim=128, output_dim=128):\n",
    "            super().__init__()\n",
    "            \n",
    "            # Feature encoding layers\n",
    "            self.node_encoder = nn.Sequential(\n",
    "                nn.Linear(node_dim, hidden_dim),\n",
    "                nn.ReLU(),\n",
    "                nn.Linear(hidden_dim, hidden_dim)\n",
    "            )\n",
    "            \n",
    "            self.edge_encoder = nn.Sequential(\n",
    "                nn.Linear(edge_dim, hidden_dim),\n",
    "                nn.ReLU(),\n",
    "                nn.Linear(hidden_dim, hidden_dim)\n",
    "            )\n",
    "            \n",
    "            # Graph convolution layers\n",
    "            self.conv1 = GCNConv(hidden_dim, hidden_dim)\n",
    "            self.conv2 = GCNConv(hidden_dim, hidden_dim)\n",
    "            self.conv3 = GCNConv(hidden_dim, output_dim)\n",
    "            \n",
    "            # Projection head for contrastive learning\n",
    "            self.projection = nn.Sequential(\n",
    "                nn.Linear(output_dim, hidden_dim),\n",
    "                nn.ReLU(),\n",
    "                nn.Linear(hidden_dim, output_dim)\n",
    "            )\n",
    "        \n",
    "        def normalize_features(self, x_cat, x_phys):\n",
    "            \"\"\"Normalize categorical and physical features separately\"\"\"\n",
    "            # Convert categorical features to one-hot\n",
    "            x_cat = x_cat.float()\n",
    "            \n",
    "            # Normalize physical features\n",
    "            x_phys = x_phys.float()\n",
    "            if x_phys.size(0) > 1:  # Only normalize if we have more than one sample\n",
    "                x_phys = (x_phys - x_phys.mean(0)) / (x_phys.std(0) + 1e-5)\n",
    "                \n",
    "            return x_cat, x_phys\n",
    "        \n",
    "        def forward(self, data):\n",
    "            # Normalize features\n",
    "            x_cat, x_phys = self.normalize_features(data.x_cat, data.x_phys)\n",
    "            \n",
    "            # Concatenate features\n",
    "            x = torch.cat([x_cat, x_phys], dim=-1)\n",
    "            \n",
    "            edge_index = data.edge_index\n",
    "            edge_attr = data.edge_attr.float()\n",
    "            batch = data.batch\n",
    "            \n",
    "            # Initial feature encoding\n",
    "            x = self.node_encoder(x)\n",
    "            edge_attr = self.edge_encoder(edge_attr)\n",
    "            \n",
    "            # Graph convolutions\n",
    "            x = F.relu(self.conv1(x, edge_index))\n",
    "            x = F.relu(self.conv2(x, edge_index))\n",
    "            x = self.conv3(x, edge_index)\n",
    "            \n",
    "            # Global pooling\n",
    "            x = global_mean_pool(x, batch)\n",
    "            \n",
    "            # Projection\n",
    "            x = self.projection(x)\n",
    "            \n",
    "            return x\n",
    "    \n",
    "    # Create data loader with custom collate function\n",
    "    train_loader = DataLoader(augmented_dataset, batch_size=batch_size, shuffle=True, collate_fn=custom_collate)\n",
    "    \n",
    "    # Calculate input dimensions\n",
    "    sample_data = augmented_dataset[0]\n",
    "    node_dim = sample_data.x_cat.shape[1] + sample_data.x_phys.shape[1]\n",
    "    edge_dim = sample_data.edge_attr.shape[1]\n",
    "    \n",
    "    # Initialize model\n",
    "    model = GraphEncoder(node_dim, edge_dim, hidden_dim, output_dim).to(device)\n",
    "    \n",
    "    # Define optimizer\n",
    "    optimizer = optim.Adam(model.parameters(), lr=lr)\n",
    "    \n",
    "    # Define contrastive loss function\n",
    "    def contrastive_loss(query, key, temperature=0.07):\n",
    "        # Normalize embeddings\n",
    "        query = F.normalize(query, dim=1)\n",
    "        key = F.normalize(key, dim=1)\n",
    "        \n",
    "        # Calculate similarity\n",
    "        logits = torch.mm(query, key.T) / temperature\n",
    "        \n",
    "        # Set labels to be the positive samples (diagonal elements)\n",
    "        labels = torch.arange(logits.shape[0], device=device)\n",
    "        \n",
    "        return F.cross_entropy(logits, labels)\n",
    "    \n",
    "    # Training loop\n",
    "    print(\"Training encoder with manual augmentations...\")\n",
    "    model.train()\n",
    "    \n",
    "    for epoch in range(epochs):\n",
    "        epoch_loss = 0\n",
    "        for batch in tqdm(train_loader, desc=f\"Epoch {epoch+1}/{epochs}\"):\n",
    "            batch = batch.to(device)\n",
    "            \n",
    "            # Forward pass\n",
    "            embeddings = model(batch)\n",
    "            \n",
    "            # Create positive pairs by splitting the batch\n",
    "            batch_size = embeddings.size(0)\n",
    "            half_size = batch_size // 2\n",
    "            \n",
    "            if half_size > 0:\n",
    "                # Split embeddings\n",
    "                query_emb = embeddings[:half_size]\n",
    "                key_emb = embeddings[half_size:2*half_size]\n",
    "                \n",
    "                # Calculate loss for this mini-batch\n",
    "                loss = contrastive_loss(query_emb, key_emb)\n",
    "                \n",
    "                # Backward pass and optimization\n",
    "                optimizer.zero_grad()\n",
    "                loss.backward()\n",
    "                optimizer.step()\n",
    "                \n",
    "                epoch_loss += loss.item()\n",
    "        \n",
    "        avg_loss = epoch_loss / len(train_loader)\n",
    "        print(f'Epoch {epoch+1}, Avg Loss: {avg_loss:.4f}')\n",
    "        \n",
    "        # Save checkpoint every 10 epochs\n",
    "        if (epoch + 1) % 10 == 0:\n",
    "            torch.save({\n",
    "                'epoch': epoch,\n",
    "                'model_state_dict': model.state_dict(),\n",
    "                'optimizer_state_dict': optimizer.state_dict(),\n",
    "                'loss': avg_loss,\n",
    "            }, os.path.join(output_dir, f'manual_encoder_checkpoint_{epoch+1}.pt'))\n",
    "    \n",
    "    # Extract embeddings for the original dataset\n",
    "    model.eval()\n",
    "    \n",
    "    # Create a custom collate function for the original dataset too\n",
    "    def original_collate(data_list):\n",
    "        keys_to_exclude = ['smiles']  # Only exclude 'smiles' for original data\n",
    "        \n",
    "        # Store the excluded attributes\n",
    "        excluded_data = {key: [getattr(data, key, None) for data in data_list] for key in keys_to_exclude}\n",
    "        \n",
    "        # Create batch without excluded keys\n",
    "        batch = Batch.from_data_list(data_list)\n",
    "        \n",
    "        # Add back the excluded attributes as lists\n",
    "        for key, values in excluded_data.items():\n",
    "            setattr(batch, key, values)\n",
    "            \n",
    "        return batch\n",
    "    \n",
    "    original_loader = DataLoader(dataset, batch_size=batch_size, shuffle=False, collate_fn=original_collate)\n",
    "    all_embeddings = []\n",
    "    \n",
    "    with torch.no_grad():\n",
    "        for batch in tqdm(original_loader, desc=\"Extracting embeddings\"):\n",
    "            batch = batch.to(device)\n",
    "            embeddings = model(batch)\n",
    "            all_embeddings.append(embeddings.cpu().numpy())\n",
    "    \n",
    "    all_embeddings = np.vstack(all_embeddings)\n",
    "    \n",
    "    # Save the embeddings\n",
    "    embeddings_data = {\n",
    "        'embeddings': all_embeddings,\n",
    "        'molecule_data': [{\n",
    "            'smiles': getattr(data, 'smiles', ''),\n",
    "            'num_nodes': data.num_nodes,\n",
    "            'edge_index': data.edge_index.tolist() if hasattr(data, 'edge_index') else None,\n",
    "            'x_cat': data.x_cat.tolist() if hasattr(data, 'x_cat') else None,\n",
    "            'x_phys': data.x_phys.tolist() if hasattr(data, 'x_phys') else None,\n",
    "            'edge_attr': data.edge_attr.tolist() if hasattr(data, 'edge_attr') else None\n",
    "        } for data in dataset]\n",
    "    }\n",
    "    \n",
    "    with open(os.path.join(output_dir, 'manual_embeddings.pkl'), 'wb') as f:\n",
    "        pickle.dump(embeddings_data, f)\n",
    "    \n",
    "    print(f\"Manual embeddings saved to {os.path.join(output_dir, 'manual_embeddings.pkl')}\")\n",
    "    \n",
    "    return model, all_embeddings\n",
    "\n",
    "def convert_pyg_to_smiles(pyg_data):\n",
    "    \"\"\"Attempt to convert PyG data to SMILES string using RDKit\"\"\"\n",
    "    try:\n",
    "        # Extract node features and edge information\n",
    "        x_cat = pyg_data.x_cat.numpy() if hasattr(pyg_data, 'x_cat') else None\n",
    "        edge_index = pyg_data.edge_index.numpy() if hasattr(pyg_data, 'edge_index') else None\n",
    "        \n",
    "        if x_cat is None or edge_index is None:\n",
    "            return ''\n",
    "        \n",
    "        # Create empty RDKit molecule\n",
    "        mol = Chem.RWMol()\n",
    "        \n",
    "        # Add atoms (assuming first column of x_cat is atomic number)\n",
    "        for atom_feat in x_cat:\n",
    "            atom_num = int(atom_feat[0])\n",
    "            atom = Chem.Atom(atom_num)\n",
    "            mol.AddAtom(atom)\n",
    "        \n",
    "        # Add bonds (assuming edges represent single bonds for simplicity)\n",
    "        for i in range(edge_index.shape[1]):\n",
    "            src, dst = edge_index[0, i], edge_index[1, i]\n",
    "            # Avoid adding duplicate bonds (only add if src < dst)\n",
    "            if src < dst:\n",
    "                mol.AddBond(int(src), int(dst), Chem.BondType.SINGLE)\n",
    "        \n",
    "        # Convert to molecule and get SMILES\n",
    "        mol = mol.GetMol()\n",
    "        return Chem.MolToSmiles(mol)\n",
    "    except Exception as e:\n",
    "        print(f\"Error converting PyG data to SMILES: {e}\")\n",
    "        return ''\n",
    "\n"
   ]
  },
  {
   "cell_type": "code",
   "execution_count": 4,
   "id": "78ad54e2",
   "metadata": {},
   "outputs": [],
   "source": [
    "def extract_molecule_metadata(dataset):\n",
    "    \"\"\"Extract metadata from PyG graph data without relying on SMILES strings\"\"\"\n",
    "    from rdkit import Chem\n",
    "    from rdkit.Chem import Descriptors\n",
    "    from tqdm import tqdm\n",
    "    import numpy as np\n",
    "    import torch\n",
    "    import networkx as nx\n",
    "    from collections import defaultdict\n",
    "    \n",
    "    metadata = []\n",
    "    \n",
    "    for i, data in enumerate(tqdm(dataset, desc=\"Extracting molecule metadata\")):\n",
    "        # Set graph ID\n",
    "        mol_id = f\"molecule_{i}\"\n",
    "        \n",
    "        # Initialize empty dictionaries for metadata\n",
    "        properties = {}\n",
    "        features = {}\n",
    "        functional_groups = {}\n",
    "        ring_info = {\"ring_counts\": {}, \"ring_sizes\": {}}\n",
    "        \n",
    "        # Extract basic graph properties directly from the PyG data\n",
    "        if hasattr(data, 'num_nodes') and hasattr(data, 'edge_index'):\n",
    "            try:\n",
    "                # Convert to networkx graph for analysis\n",
    "                G = to_networkx(data)\n",
    "                \n",
    "                # Calculate graph-level properties\n",
    "                num_edges = data.edge_index.size(1) // 2  # Count unique edges\n",
    "                properties = {\n",
    "                    \"num_nodes\": data.num_nodes,\n",
    "                    \"num_edges\": num_edges,\n",
    "                    \"avg_node_degree\": 2 * num_edges / data.num_nodes if data.num_nodes > 0 else 0\n",
    "                }\n",
    "                \n",
    "                # Calculate average path length if graph is connected\n",
    "                if nx.is_connected(G):\n",
    "                    try:\n",
    "                        properties[\"avg_path_length\"] = nx.average_shortest_path_length(G)\n",
    "                    except:\n",
    "                        properties[\"avg_path_length\"] = 0.0\n",
    "                else:\n",
    "                    properties[\"avg_path_length\"] = 0.0\n",
    "                \n",
    "                # Add more sophisticated graph properties\n",
    "                try:\n",
    "                    properties[\"clustering_coefficient\"] = nx.average_clustering(G)\n",
    "                except:\n",
    "                    properties[\"clustering_coefficient\"] = 0.0\n",
    "                \n",
    "                try:\n",
    "                    properties[\"graph_diameter\"] = nx.diameter(G) if nx.is_connected(G) else 0\n",
    "                except:\n",
    "                    properties[\"graph_diameter\"] = 0\n",
    "\n",
    "                try:\n",
    "                    properties[\"assortativity\"] = nx.degree_assortativity_coefficient(G)\n",
    "                except:\n",
    "                    properties[\"assortativity\"] = 0.0\n",
    "                \n",
    "                # Graph features\n",
    "                features = {\n",
    "                    \"is_connected\": nx.is_connected(G),\n",
    "                    \"num_connected_components\": nx.number_connected_components(G),\n",
    "                    \"has_cycles\": not nx.is_tree(G),\n",
    "                    \"max_degree\": max(dict(G.degree()).values()) if G.number_of_nodes() > 0 else 0,\n",
    "                    \"density\": nx.density(G),\n",
    "                    \"is_bipartite\": nx.is_bipartite(G) if G.number_of_nodes() > 0 else False\n",
    "                }\n",
    "                \n",
    "                # Get centrality measures\n",
    "                if G.number_of_nodes() > 0:\n",
    "                    try:\n",
    "                        degree_centrality = nx.degree_centrality(G)\n",
    "                        features[\"max_centrality\"] = max(degree_centrality.values()) if degree_centrality else 0\n",
    "                        features[\"avg_centrality\"] = sum(degree_centrality.values()) / len(degree_centrality) if degree_centrality else 0\n",
    "                    except:\n",
    "                        features[\"max_centrality\"] = 0\n",
    "                        features[\"avg_centrality\"] = 0\n",
    "                else:\n",
    "                    features[\"max_centrality\"] = 0\n",
    "                    features[\"avg_centrality\"] = 0\n",
    "                \n",
    "                # Analyze node features if available\n",
    "                if hasattr(data, 'x_cat') and hasattr(data, 'x_phys'):\n",
    "                    # Atomic element distribution (from x_cat)\n",
    "                    atom_types = {}\n",
    "                    if data.x_cat.size(1) > 0:\n",
    "                        for i in range(data.num_nodes):\n",
    "                            atom_type = int(data.x_cat[i, 0].item())\n",
    "                            atom_types[atom_type] = atom_types.get(atom_type, 0) + 1\n",
    "                    \n",
    "                    features[\"atom_type_distribution\"] = atom_types\n",
    "                    \n",
    "                    # Physical property statistics (from x_phys)\n",
    "                    if data.x_phys.size(1) > 0:\n",
    "                        phys_means = data.x_phys.mean(dim=0).tolist() \n",
    "                        phys_stds = data.x_phys.std(dim=0).tolist()\n",
    "                        \n",
    "                        # Map indices to meaningful property names for the first few common properties\n",
    "                        phys_prop_names = ['contrib_mw', 'contrib_logp', 'formal_charge', \n",
    "                                        'hybridization', 'is_aromatic', 'num_h', 'valence', 'degree']\n",
    "                        \n",
    "                        for idx, name in enumerate(phys_prop_names):\n",
    "                            if idx < len(phys_means):\n",
    "                                properties[f\"avg_{name}\"] = phys_means[idx]\n",
    "                                properties[f\"std_{name}\"] = phys_stds[idx]\n",
    "                \n",
    "                # Cycle analysis\n",
    "                cycles = list(nx.cycle_basis(G))\n",
    "                cycle_count = len(cycles)\n",
    "                ring_info[\"ring_counts\"][\"total\"] = cycle_count\n",
    "                \n",
    "                # Count rings by size\n",
    "                ring_sizes = defaultdict(int)\n",
    "                for cycle in cycles:\n",
    "                    size = len(cycle)\n",
    "                    ring_sizes[str(size)] = ring_sizes.get(str(size), 0) + 1\n",
    "                \n",
    "                # Ensure we have entries for common ring sizes\n",
    "                for size in range(3, 11):\n",
    "                    if str(size) not in ring_sizes:\n",
    "                        ring_sizes[str(size)] = 0\n",
    "                \n",
    "                ring_info[\"ring_sizes\"] = dict(ring_sizes)\n",
    "                \n",
    "                # Estimate ring types\n",
    "                ring_info[\"ring_counts\"][\"single\"] = 0\n",
    "                ring_info[\"ring_counts\"][\"fused\"] = 0\n",
    "                \n",
    "                # Identify single vs fused rings by checking for shared nodes\n",
    "                if cycles:\n",
    "                    # Build a mapping of nodes to cycles they belong to\n",
    "                    node_to_cycles = defaultdict(list)\n",
    "                    for cycle_idx, cycle in enumerate(cycles):\n",
    "                        for node in cycle:\n",
    "                            node_to_cycles[node].append(cycle_idx)\n",
    "                    \n",
    "                    # Count single rings (no shared nodes with other rings)\n",
    "                    shared_cycles = set()\n",
    "                    for node, cycle_list in node_to_cycles.items():\n",
    "                        if len(cycle_list) > 1:\n",
    "                            for c in cycle_list:\n",
    "                                shared_cycles.add(c)\n",
    "                    \n",
    "                    ring_info[\"ring_counts\"][\"single\"] = cycle_count - len(shared_cycles)\n",
    "                    ring_info[\"ring_counts\"][\"fused\"] = len(shared_cycles)\n",
    "                \n",
    "                # Edge feature analysis if available\n",
    "                if hasattr(data, 'edge_attr') and data.edge_attr.size(0) > 0:\n",
    "                    # Analyze bond types (assuming first dimension is bond type)\n",
    "                    bond_types = {}\n",
    "                    for i in range(data.edge_attr.size(0)):\n",
    "                        if data.edge_attr.size(1) > 0:\n",
    "                            bond_type = int(data.edge_attr[i, 0].item())\n",
    "                            bond_types[bond_type] = bond_types.get(bond_type, 0) + 1\n",
    "                    \n",
    "                    # Divide by 2 since each bond is counted twice in undirected graph\n",
    "                    for bt in bond_types:\n",
    "                        bond_types[bt] = bond_types[bt] // 2\n",
    "                    \n",
    "                    functional_groups[\"bond_types\"] = bond_types\n",
    "                    \n",
    "                    # Count functional group proxies based on patterns in the graph\n",
    "                    # This is just an estimate since we don't have chemical information\n",
    "                    conjugated_bonds = 0\n",
    "                    for i in range(data.edge_attr.size(0)):\n",
    "                        if data.edge_attr.size(1) > 1 and data.edge_attr[i, 2].item() > 0:  # IsConjugated flag\n",
    "                            conjugated_bonds += 1\n",
    "                    \n",
    "                    functional_groups[\"conjugated_bonds\"] = conjugated_bonds // 2\n",
    "                    \n",
    "            except Exception as e:\n",
    "                # If any error occurs during analysis, use minimal information\n",
    "                print(f\"Error analyzing graph {i}: {e}\")\n",
    "        \n",
    "        metadata.append({\n",
    "            \"graph_id\": mol_id,\n",
    "            \"properties\": properties,\n",
    "            \"features\": features,\n",
    "            \"functional_groups\": functional_groups,\n",
    "            \"ring_info\": ring_info\n",
    "        })\n",
    "    \n",
    "    return metadata\n",
    "\n",
    "def to_networkx(data):\n",
    "    \"\"\"Convert PyG data to networkx graph for analysis\"\"\"\n",
    "    import networkx as nx\n",
    "    \n",
    "    G = nx.Graph()\n",
    "    \n",
    "    # Add nodes\n",
    "    for i in range(data.num_nodes):\n",
    "        G.add_node(i)\n",
    "    \n",
    "    # Add edges (removing duplicates and self-loops)\n",
    "    edge_index = data.edge_index.cpu().numpy()\n",
    "    edges = set()\n",
    "    for i in range(edge_index.shape[1]):\n",
    "        u, v = edge_index[0, i], edge_index[1, i]\n",
    "        if u != v and (u, v) not in edges and (v, u) not in edges:\n",
    "            G.add_edge(u, v)\n",
    "            edges.add((u, v))\n",
    "    \n",
    "    return G"
   ]
  },
  {
   "cell_type": "code",
   "execution_count": 5,
   "id": "8e90813e",
   "metadata": {},
   "outputs": [],
   "source": [
    "def save_embedding_file(embeddings, molecule_indices, training_info, model_config, filepath):\n",
    "    \"\"\"Save embeddings with training metadata\"\"\"\n",
    "    data = {\n",
    "        \"embeddings\": embeddings,\n",
    "        \"molecule_indices\": molecule_indices,\n",
    "        \"training_info\": training_info,\n",
    "        \"model_config\": {k: v for k, v in model_config.__dict__.items() \n",
    "                         if not k.startswith('_') and not callable(v)}\n",
    "    }\n",
    "    \n",
    "    with open(filepath, 'wb') as f:\n",
    "        pickle.dump(data, f)\n",
    "        \n",
    "def save_embeddings_with_molecules(embeddings, dataset, filepath):\n",
    "    \"\"\"Save embeddings with corresponding molecule information and graph-level properties\"\"\"\n",
    "    # Create a list to store molecule data\n",
    "    molecule_data = []\n",
    "    \n",
    "    # Extract important info from each molecule in the dataset\n",
    "    for data in dataset:\n",
    "        # Create a dictionary with basic graph properties\n",
    "        mol_info = {\n",
    "            \"num_nodes\": data.num_nodes,\n",
    "            \"edge_index\": data.edge_index.tolist() if hasattr(data, 'edge_index') else None,\n",
    "            \"x_cat\": data.x_cat.tolist() if hasattr(data, 'x_cat') else None,\n",
    "            \"x_phys\": data.x_phys.tolist() if hasattr(data, 'x_phys') else None,\n",
    "            \"edge_attr\": data.edge_attr.tolist() if hasattr(data, 'edge_attr') else None\n",
    "        }\n",
    "        \n",
    "        # Calculate additional graph properties if possible\n",
    "        try:\n",
    "            if hasattr(data, 'edge_index') and hasattr(data, 'num_nodes'):\n",
    "                # Graph density\n",
    "                num_edges = len(data.edge_index[0]) // 2  # Undirected edges counted once\n",
    "                max_edges = data.num_nodes * (data.num_nodes - 1) // 2\n",
    "                density = num_edges / max_edges if max_edges > 0 else 0\n",
    "                mol_info[\"graph_density\"] = density\n",
    "                \n",
    "                # Average degree\n",
    "                avg_degree = num_edges * 2 / data.num_nodes if data.num_nodes > 0 else 0\n",
    "                mol_info[\"avg_degree\"] = avg_degree\n",
    "                \n",
    "                # Count atom types if available\n",
    "                if hasattr(data, 'x_cat') and data.x_cat is not None:\n",
    "                    atom_types = {}\n",
    "                    for atom in data.x_cat:\n",
    "                        atom_type = int(atom[0])\n",
    "                        atom_types[atom_type] = atom_types.get(atom_type, 0) + 1\n",
    "                    mol_info[\"atom_type_counts\"] = atom_types\n",
    "                \n",
    "                # Count bond types if available\n",
    "                if hasattr(data, 'edge_attr') and data.edge_attr is not None:\n",
    "                    bond_types = {}\n",
    "                    for bond in data.edge_attr:\n",
    "                        bond_type = int(bond[0])\n",
    "                        bond_types[bond_type] = bond_types.get(bond_type, 0) + 1\n",
    "                    mol_info[\"bond_type_counts\"] = bond_types\n",
    "        except:\n",
    "            # If calculation fails, continue without these properties\n",
    "            pass\n",
    "            \n",
    "        molecule_data.append(mol_info)\n",
    "    \n",
    "    # Save both embeddings and molecule data\n",
    "    with open(filepath, 'wb') as f:\n",
    "        pickle.dump({\n",
    "            'embeddings': embeddings,\n",
    "            'molecule_data': molecule_data,\n",
    "            'graph_properties': True  # Flag to indicate enhanced properties are stored\n",
    "        }, f)\n",
    "    \n",
    "    print(f\"Saved embeddings and molecule data with graph properties to {filepath}\")\n",
    "        \n",
    "\n",
    "def save_embeddings(embeddings, labels, filepath):\n",
    "    \"\"\"Save embeddings and corresponding labels\"\"\"\n",
    "    with open(filepath, 'wb') as f:\n",
    "        pickle.dump({\n",
    "            'embeddings': embeddings,\n",
    "            'labels': labels\n",
    "        }, f)\n",
    "\n",
    "def save_encoder(encoder, save_path, info=None):\n",
    "    \"\"\"Save encoder model for downstream tasks\"\"\"\n",
    "    save_dict = {\n",
    "        'encoder_state_dict': encoder.state_dict(),\n",
    "        'model_info': info or {}\n",
    "    }\n",
    "    torch.save(save_dict, save_path)\n",
    "\n",
    "def load_encoder(model_path, device='cpu'):\n",
    "    \"\"\"Load saved encoder model\"\"\"\n",
    "    checkpoint = torch.load(model_path, map_location=device)\n",
    "    encoder = GraphDiscriminator(\n",
    "        node_dim=checkpoint['model_info'].get('node_dim'),\n",
    "        edge_dim=checkpoint['model_info'].get('edge_dim'),\n",
    "        hidden_dim=checkpoint['model_info'].get('hidden_dim', 128),\n",
    "        output_dim=checkpoint['model_info'].get('output_dim', 128)\n",
    "    )\n",
    "    encoder.load_state_dict(checkpoint['encoder_state_dict'])\n",
    "    return encoder        \n",
    "        \n"
   ]
  },
  {
   "cell_type": "code",
   "execution_count": null,
   "id": "4dbc0517",
   "metadata": {
    "scrolled": false
   },
   "outputs": [
    {
     "name": "stdout",
     "output_type": "stream",
     "text": [
      "Starting data loading...\n",
      "Failed to generate 3D conformer\n",
      "Failed to generate 3D conformer\n",
      "Failed to generate 3D conformer\n"
     ]
    },
    {
     "name": "stderr",
     "output_type": "stream",
     "text": [
      "[11:10:42] UFFTYPER: Unrecognized atom type: Se2+2 (17)\n"
     ]
    },
    {
     "name": "stdout",
     "output_type": "stream",
     "text": [
      "Failed to generate 3D conformer\n"
     ]
    },
    {
     "name": "stderr",
     "output_type": "stream",
     "text": [
      "[11:10:46] UFFTYPER: Unrecognized charge state for atom: 1\n"
     ]
    },
    {
     "name": "stdout",
     "output_type": "stream",
     "text": [
      "Failed to generate 3D conformer\n"
     ]
    },
    {
     "name": "stderr",
     "output_type": "stream",
     "text": [
      "[11:10:54] UFFTYPER: Unrecognized charge state for atom: 4\n"
     ]
    },
    {
     "name": "stdout",
     "output_type": "stream",
     "text": [
      "Failed to generate 3D conformer\n"
     ]
    },
    {
     "name": "stderr",
     "output_type": "stream",
     "text": [
      "[11:11:22] UFFTYPER: Unrecognized atom type: S_5+4 (11)\n"
     ]
    },
    {
     "name": "stdout",
     "output_type": "stream",
     "text": [
      "Failed to generate 3D conformer\n"
     ]
    },
    {
     "name": "stderr",
     "output_type": "stream",
     "text": [
      "[11:11:43] UFFTYPER: Unrecognized atom type: Se2+2 (14)\n",
      "[11:11:43] UFFTYPER: Unrecognized charge state for atom: 20\n",
      "[11:11:43] UFFTYPER: Unrecognized charge state for atom: 40\n"
     ]
    },
    {
     "name": "stdout",
     "output_type": "stream",
     "text": [
      "Failed to generate 3D conformer\n"
     ]
    },
    {
     "name": "stderr",
     "output_type": "stream",
     "text": [
      "[11:11:43] UFFTYPER: Unrecognized charge state for atom: 5\n",
      "[11:11:47] UFFTYPER: Unrecognized charge state for atom: 9\n",
      "[11:11:52] UFFTYPER: Unrecognized charge state for atom: 2\n"
     ]
    },
    {
     "name": "stdout",
     "output_type": "stream",
     "text": [
      "Failed to generate 3D conformer\n"
     ]
    },
    {
     "name": "stderr",
     "output_type": "stream",
     "text": [
      "[11:12:06] UFFTYPER: Unrecognized charge state for atom: 8\n",
      "[11:12:41] UFFTYPER: Unrecognized charge state for atom: 6\n"
     ]
    },
    {
     "name": "stdout",
     "output_type": "stream",
     "text": [
      "Failed to generate 3D conformer\n",
      "Failed to generate 3D conformer\n",
      "Failed to generate 3D conformer\n",
      "Failed to generate 3D conformer\n",
      "Failed to generate 3D conformer\n",
      "Failed to generate 3D conformer\n"
     ]
    },
    {
     "name": "stderr",
     "output_type": "stream",
     "text": [
      "[11:14:10] UFFTYPER: Unrecognized charge state for atom: 2\n"
     ]
    },
    {
     "name": "stdout",
     "output_type": "stream",
     "text": [
      "Failed to generate 3D conformer\n"
     ]
    },
    {
     "name": "stderr",
     "output_type": "stream",
     "text": [
      "[11:14:27] UFFTYPER: Unrecognized charge state for atom: 3\n",
      "[11:14:27] UFFTYPER: Unrecognized charge state for atom: 7\n"
     ]
    },
    {
     "name": "stdout",
     "output_type": "stream",
     "text": [
      "Failed to generate 3D conformer\n",
      "Failed to generate 3D conformer\n"
     ]
    },
    {
     "name": "stderr",
     "output_type": "stream",
     "text": [
      "[11:15:19] UFFTYPER: Unrecognized atom type: S_6+6 (17)\n",
      "[11:15:26] UFFTYPER: Unrecognized atom type: Se2+2 (7)\n",
      "[11:15:26] UFFTYPER: Unrecognized atom type: Se2+2 (7)\n"
     ]
    },
    {
     "name": "stdout",
     "output_type": "stream",
     "text": [
      "Failed to generate 3D conformer\n"
     ]
    },
    {
     "name": "stderr",
     "output_type": "stream",
     "text": [
      "[11:15:41] UFFTYPER: Unrecognized charge state for atom: 5\n",
      "[11:15:54] UFFTYPER: Unrecognized charge state for atom: 13\n"
     ]
    },
    {
     "name": "stdout",
     "output_type": "stream",
     "text": [
      "Failed to generate 3D conformer\n",
      "Failed to generate 3D conformer\n",
      "Failed to generate 3D conformer\n"
     ]
    },
    {
     "name": "stderr",
     "output_type": "stream",
     "text": [
      "[11:16:33] UFFTYPER: Unrecognized charge state for atom: 8\n",
      "[11:16:46] UFFTYPER: Unrecognized atom type: Se2+2 (16)\n"
     ]
    },
    {
     "name": "stdout",
     "output_type": "stream",
     "text": [
      "Failed to generate 3D conformer\n"
     ]
    },
    {
     "name": "stderr",
     "output_type": "stream",
     "text": [
      "[11:17:05] UFFTYPER: Unrecognized charge state for atom: 4\n"
     ]
    },
    {
     "name": "stdout",
     "output_type": "stream",
     "text": [
      "Failed to generate 3D conformer\n",
      "Failed to generate 3D conformer\n"
     ]
    },
    {
     "name": "stderr",
     "output_type": "stream",
     "text": [
      "[11:17:35] UFFTYPER: Unrecognized charge state for atom: 1\n"
     ]
    },
    {
     "name": "stdout",
     "output_type": "stream",
     "text": [
      "Failed to generate 3D conformer\n"
     ]
    },
    {
     "name": "stderr",
     "output_type": "stream",
     "text": [
      "[11:18:46] UFFTYPER: Unrecognized charge state for atom: 17\n",
      "[11:18:46] UFFTYPER: Unrecognized charge state for atom: 19\n",
      "[11:18:49] UFFTYPER: Unrecognized charge state for atom: 8\n"
     ]
    },
    {
     "name": "stdout",
     "output_type": "stream",
     "text": [
      "Failed to generate 3D conformer\n",
      "Failed to generate 3D conformer\n",
      "Failed to generate 3D conformer\n",
      "Failed to generate 3D conformer\n"
     ]
    },
    {
     "name": "stderr",
     "output_type": "stream",
     "text": [
      "[11:21:02] UFFTYPER: Unrecognized charge state for atom: 8\n",
      "[11:21:04] UFFTYPER: Unrecognized charge state for atom: 1\n",
      "[11:21:17] UFFTYPER: Unrecognized atom type: Se2+2 (9)\n"
     ]
    },
    {
     "name": "stdout",
     "output_type": "stream",
     "text": [
      "Failed to generate 3D conformer\n",
      "Failed to generate 3D conformer\n",
      "Failed to generate 3D conformer\n",
      "Failed to generate 3D conformer\n",
      "Failed to generate 3D conformer\n",
      "Failed to generate 3D conformer\n",
      "Failed to generate 3D conformer\n"
     ]
    },
    {
     "name": "stderr",
     "output_type": "stream",
     "text": [
      "[11:22:23] UFFTYPER: Unrecognized atom type: S_5+4 (1)\n",
      "[11:22:33] UFFTYPER: Unrecognized atom type: S_5+4 (10)\n"
     ]
    },
    {
     "name": "stdout",
     "output_type": "stream",
     "text": [
      "Failed to generate 3D conformer\n"
     ]
    },
    {
     "name": "stderr",
     "output_type": "stream",
     "text": [
      "[11:22:51] UFFTYPER: Unrecognized hybridization for atom: 1\n",
      "[11:22:51] UFFTYPER: Unrecognized atom type: Pt+2 (1)\n"
     ]
    },
    {
     "name": "stdout",
     "output_type": "stream",
     "text": [
      "Failed to generate 3D conformer\n",
      "Failed to generate 3D conformer\n",
      "Failed to generate 3D conformer\n",
      "Failed to generate 3D conformer\n",
      "Failed to generate 3D conformer\n",
      "Failed to generate 3D conformer\n"
     ]
    },
    {
     "name": "stderr",
     "output_type": "stream",
     "text": [
      "[11:26:34] UFFTYPER: Unrecognized charge state for atom: 3\n",
      "[11:26:35] UFFTYPER: Unrecognized charge state for atom: 15\n",
      "[11:26:40] UFFTYPER: Unrecognized atom type: S_5+4 (15)\n"
     ]
    },
    {
     "name": "stdout",
     "output_type": "stream",
     "text": [
      "Failed to generate 3D conformer\n",
      "Failed to generate 3D conformer\n",
      "Failed to generate 3D conformer\n",
      "Failed to generate 3D conformer\n",
      "Failed to generate 3D conformer\n",
      "Failed to generate 3D conformer\n",
      "Failed to generate 3D conformer\n",
      "Failed to generate 3D conformer\n",
      "Failed to generate 3D conformer\n",
      "Failed to generate 3D conformer\n",
      "Failed to generate 3D conformer\n",
      "Failed to generate 3D conformer\n",
      "Failed to generate 3D conformer\n",
      "Failed to generate 3D conformer\n",
      "Failed to generate 3D conformer\n",
      "Failed to generate 3D conformer\n",
      "Failed to generate 3D conformer\n",
      "Failed to generate 3D conformer\n",
      "Failed to generate 3D conformer\n",
      "1. Loaded dataset with 9937 graphs.\n",
      "2. Failed SMILES count: 63\n",
      "3. Using device: cpu\n",
      "4. Creating molecular augmenter...\n",
      "5. Generating augmented molecules...\n"
     ]
    },
    {
     "name": "stderr",
     "output_type": "stream",
     "text": [
      "Generating augmentations:   0%|▏                                                    | 41/10000 [00:04<18:19,  9.06it/s]"
     ]
    },
    {
     "name": "stdout",
     "output_type": "stream",
     "text": [
      "Failed to generate 3D conformer\n"
     ]
    },
    {
     "name": "stderr",
     "output_type": "stream",
     "text": [
      "Generating augmentations:   0%|▏                                                    | 43/10000 [00:05<33:48,  4.91it/s]"
     ]
    },
    {
     "name": "stdout",
     "output_type": "stream",
     "text": [
      "Failed to generate 3D conformer\n"
     ]
    },
    {
     "name": "stderr",
     "output_type": "stream",
     "text": [
      "Generating augmentations:   2%|▊                                                   | 160/10000 [00:35<26:15,  6.24it/s]"
     ]
    },
    {
     "name": "stdout",
     "output_type": "stream",
     "text": [
      "Failed to generate 3D conformer\n"
     ]
    },
    {
     "name": "stderr",
     "output_type": "stream",
     "text": [
      "\r",
      "Generating augmentations:   2%|▊                                                 | 162/10000 [00:39<2:11:55,  1.24it/s]"
     ]
    },
    {
     "name": "stdout",
     "output_type": "stream",
     "text": [
      "Failed to generate 3D conformer\n"
     ]
    },
    {
     "name": "stderr",
     "output_type": "stream",
     "text": [
      "Generating augmentations:   2%|█▏                                                  | 232/10000 [00:48<21:40,  7.51it/s][11:31:21] Explicit valence for atom # 7 H, 3, is greater than permitted\n",
      "Generating augmentations:   3%|█▍                                                  | 269/10000 [00:53<18:38,  8.70it/s][11:31:26] UFFTYPER: Unrecognized charge state for atom: 4\n",
      "Generating augmentations:   3%|█▍                                                  | 275/10000 [00:54<23:41,  6.84it/s][11:31:27] Explicit valence for atom # 8 H, 4, is greater than permitted\n",
      "Generating augmentations:   3%|█▋                                                  | 320/10000 [01:11<41:16,  3.91it/s]"
     ]
    },
    {
     "name": "stdout",
     "output_type": "stream",
     "text": [
      "Failed to generate 3D conformer\n"
     ]
    },
    {
     "name": "stderr",
     "output_type": "stream",
     "text": [
      "\r",
      "Generating augmentations:   3%|█▋                                                  | 322/10000 [01:11<40:43,  3.96it/s]"
     ]
    },
    {
     "name": "stdout",
     "output_type": "stream",
     "text": [
      "Failed to generate 3D conformer\n"
     ]
    },
    {
     "name": "stderr",
     "output_type": "stream",
     "text": [
      "Generating augmentations:   3%|█▋                                                  | 323/10000 [01:12<46:57,  3.43it/s][11:31:45] Explicit valence for atom # 8 Cl, 2, is greater than permitted\n",
      "Generating augmentations:   3%|█▊                                                  | 341/10000 [01:16<39:16,  4.10it/s][11:31:48] Explicit valence for atom # 2 O, 4, is greater than permitted\n",
      "Generating augmentations:   3%|█▊                                                  | 346/10000 [01:16<24:41,  6.52it/s][11:31:49] Explicit valence for atom # 14 H, 3, is greater than permitted\n",
      "Generating augmentations:   3%|█▊                                                  | 349/10000 [01:17<27:20,  5.88it/s][11:31:49] UFFTYPER: Unrecognized atom type: Se2+2 (17)\n",
      "[11:31:49] UFFTYPER: Unrecognized atom type: Se2+2 (17)\n",
      "Generating augmentations:   4%|█▊                                                  | 355/10000 [01:17<17:51,  9.01it/s]"
     ]
    },
    {
     "name": "stdout",
     "output_type": "stream",
     "text": [
      "Failed to generate 3D conformer\n",
      "Failed to generate 3D conformer\n"
     ]
    },
    {
     "name": "stderr",
     "output_type": "stream",
     "text": [
      "Generating augmentations:   4%|██                                                  | 393/10000 [01:24<17:31,  9.14it/s][11:31:56] UFFTYPER: Unrecognized charge state for atom: 1\n",
      "[11:31:57] UFFTYPER: Unrecognized charge state for atom: 1\n",
      "Generating augmentations:   4%|██                                                  | 398/10000 [01:25<29:22,  5.45it/s]"
     ]
    },
    {
     "name": "stdout",
     "output_type": "stream",
     "text": [
      "Failed to generate 3D conformer\n"
     ]
    },
    {
     "name": "stderr",
     "output_type": "stream",
     "text": [
      "\r",
      "Generating augmentations:   4%|█▉                                                | 399/10000 [01:26<1:19:04,  2.02it/s]"
     ]
    },
    {
     "name": "stdout",
     "output_type": "stream",
     "text": [
      "Failed to generate 3D conformer\n"
     ]
    },
    {
     "name": "stderr",
     "output_type": "stream",
     "text": [
      "Generating augmentations:   4%|██▏                                               | 439/10000 [01:34<1:13:59,  2.15it/s]"
     ]
    },
    {
     "name": "stdout",
     "output_type": "stream",
     "text": [
      "Failed to generate 3D conformer\n"
     ]
    },
    {
     "name": "stderr",
     "output_type": "stream",
     "text": [
      "Generating augmentations:   5%|██▍                                                 | 468/10000 [01:41<42:14,  3.76it/s][11:32:13] UFFTYPER: Unrecognized charge state for atom: 4\n",
      "[11:32:14] UFFTYPER: Unrecognized charge state for atom: 4\n",
      "Generating augmentations:   5%|██▍                                                 | 479/10000 [01:43<28:05,  5.65it/s][11:32:15] Explicit valence for atom # 2 O, 4, is greater than permitted\n",
      "Generating augmentations:   5%|██▌                                                 | 499/10000 [01:46<26:49,  5.90it/s][11:32:19] Explicit valence for atom # 15 H, 4, is greater than permitted\n",
      "Generating augmentations:   5%|██▌                                                 | 501/10000 [01:46<20:11,  7.84it/s][11:32:19] Explicit valence for atom # 3 O, 4, is greater than permitted\n",
      "Generating augmentations:   5%|██▋                                                 | 519/10000 [01:49<17:52,  8.84it/s][11:32:22] Explicit valence for atom # 10 H, 2, is greater than permitted\n",
      "Generating augmentations:   6%|███▎                                                | 638/10000 [02:07<27:28,  5.68it/s]"
     ]
    },
    {
     "name": "stdout",
     "output_type": "stream",
     "text": [
      "Failed to generate 3D conformer\n"
     ]
    },
    {
     "name": "stderr",
     "output_type": "stream",
     "text": [
      "Generating augmentations:   7%|███▏                                             | 658/10000 [03:22<28:15:08, 10.89s/it][11:33:55] Explicit valence for atom # 5 H, 2, is greater than permitted\n",
      "Generating augmentations:   7%|███▎                                              | 673/10000 [03:26<1:09:59,  2.22it/s][11:33:59] Explicit valence for atom # 2 O, 4, is greater than permitted\n",
      "Generating augmentations:   7%|███▊                                                | 744/10000 [03:38<19:44,  7.81it/s]"
     ]
    },
    {
     "name": "stdout",
     "output_type": "stream",
     "text": [
      "Failed to generate 3D conformer\n"
     ]
    },
    {
     "name": "stderr",
     "output_type": "stream",
     "text": [
      "\r",
      "Generating augmentations:   7%|███▋                                              | 745/10000 [03:47<5:21:04,  2.08s/it]"
     ]
    },
    {
     "name": "stdout",
     "output_type": "stream",
     "text": [
      "Failed to generate 3D conformer\n"
     ]
    },
    {
     "name": "stderr",
     "output_type": "stream",
     "text": [
      "Generating augmentations:   8%|████                                                | 780/10000 [03:54<22:43,  6.76it/s][11:34:27] UFFTYPER: Unrecognized atom type: S_5+4 (11)\n",
      "[11:34:27] UFFTYPER: Unrecognized atom type: S_5+4 (11)\n",
      "Generating augmentations:   8%|████                                                | 786/10000 [03:55<24:57,  6.15it/s][11:34:27] Explicit valence for atom # 3 H, 4, is greater than permitted\n",
      "Generating augmentations:   8%|████▏                                               | 811/10000 [04:01<19:58,  7.67it/s][11:34:33] UFFTYPER: Unrecognized charge state for atom: 7\n",
      "Generating augmentations:   8%|████▎                                               | 828/10000 [04:03<25:41,  5.95it/s]"
     ]
    },
    {
     "name": "stdout",
     "output_type": "stream",
     "text": [
      "Failed to generate 3D conformer\n"
     ]
    },
    {
     "name": "stderr",
     "output_type": "stream",
     "text": [
      "Generating augmentations:   8%|████▎                                               | 830/10000 [04:04<35:49,  4.27it/s]"
     ]
    },
    {
     "name": "stdout",
     "output_type": "stream",
     "text": [
      "Failed to generate 3D conformer\n"
     ]
    },
    {
     "name": "stderr",
     "output_type": "stream",
     "text": [
      "Generating augmentations:   9%|████▍                                             | 877/10000 [05:55<4:03:57,  1.60s/it][11:36:28] Explicit valence for atom # 7 O, 4, is greater than permitted\n",
      "Generating augmentations:  10%|█████▎                                             | 1030/10000 [06:23<26:33,  5.63it/s][11:36:55] UFFTYPER: Unrecognized atom type: Se2+2 (14)\n",
      "[11:36:55] UFFTYPER: Unrecognized atom type: Se2+2 (14)\n",
      "Generating augmentations:  10%|█████▎                                             | 1032/10000 [06:23<19:06,  7.82it/s][11:36:55] UFFTYPER: Unrecognized charge state for atom: 20\n",
      "[11:36:55] UFFTYPER: Unrecognized charge state for atom: 40\n",
      "[11:36:55] UFFTYPER: Unrecognized charge state for atom: 20\n",
      "[11:36:55] UFFTYPER: Unrecognized charge state for atom: 40\n",
      "Generating augmentations:  10%|█████▎                                             | 1033/10000 [06:23<20:39,  7.24it/s]"
     ]
    },
    {
     "name": "stdout",
     "output_type": "stream",
     "text": [
      "Failed to generate 3D conformer\n",
      "Failed to generate 3D conformer\n"
     ]
    },
    {
     "name": "stderr",
     "output_type": "stream",
     "text": [
      "Generating augmentations:  10%|█████▎                                             | 1035/10000 [06:23<19:08,  7.81it/s][11:36:56] UFFTYPER: Unrecognized charge state for atom: 5\n",
      "[11:36:56] UFFTYPER: Unrecognized charge state for atom: 5\n",
      "Generating augmentations:  11%|█████▋                                             | 1111/10000 [06:34<19:41,  7.53it/s][11:37:06] UFFTYPER: Unrecognized charge state for atom: 9\n",
      "[11:37:06] UFFTYPER: Unrecognized charge state for atom: 9\n",
      "[11:37:06] Explicit valence for atom # 12 H, 2, is greater than permitted\n",
      "Generating augmentations:  11%|█████▊                                             | 1139/10000 [06:38<21:04,  7.01it/s][11:37:10] Explicit valence for atom # 25 H, 3, is greater than permitted\n",
      "Generating augmentations:  12%|█████▉                                             | 1175/10000 [06:44<21:25,  6.86it/s][11:37:16] UFFTYPER: Unrecognized charge state for atom: 2\n",
      "[11:37:16] UFFTYPER: Unrecognized charge state for atom: 2\n",
      "Generating augmentations:  12%|██████▏                                            | 1217/10000 [06:54<33:00,  4.43it/s][11:37:26] Explicit valence for atom # 5 H, 4, is greater than permitted\n",
      "Generating augmentations:  12%|██████▏                                            | 1223/10000 [06:55<23:56,  6.11it/s][11:37:27] Explicit valence for atom # 8 F, 2, is greater than permitted\n",
      "Generating augmentations:  13%|██████▍                                            | 1265/10000 [07:02<21:36,  6.74it/s]"
     ]
    },
    {
     "name": "stdout",
     "output_type": "stream",
     "text": [
      "Failed to generate 3D conformer\n",
      "Failed to generate 3D conformer\n"
     ]
    },
    {
     "name": "stderr",
     "output_type": "stream",
     "text": [
      "Generating augmentations:  13%|██████▊                                            | 1324/10000 [07:11<24:05,  6.00it/s][11:37:43] Explicit valence for atom # 10 F, 2, is greater than permitted\n",
      "Generating augmentations:  13%|██████▌                                          | 1348/10000 [07:22<2:37:45,  1.09s/it][11:37:54] UFFTYPER: Unrecognized charge state for atom: 8\n",
      "[11:37:54] UFFTYPER: Unrecognized charge state for atom: 8\n",
      "Generating augmentations:  15%|███████▉                                           | 1547/10000 [07:57<33:51,  4.16it/s][11:38:30] Explicit valence for atom # 7 H, 3, is greater than permitted\n",
      "Generating augmentations:  16%|████████▏                                          | 1595/10000 [08:05<23:05,  6.07it/s][11:38:38] Explicit valence for atom # 9 H, 2, is greater than permitted\n",
      "Generating augmentations:  16%|████████▎                                          | 1620/10000 [08:09<23:25,  5.96it/s][11:38:42] Explicit valence for atom # 1 O, 4, is greater than permitted\n",
      "Generating augmentations:  16%|████████▍                                          | 1643/10000 [08:15<25:28,  5.47it/s][11:38:48] Explicit valence for atom # 10 H, 2, is greater than permitted\n",
      "Generating augmentations:  17%|████████▍                                          | 1660/10000 [08:18<30:16,  4.59it/s][11:38:51] Explicit valence for atom # 12 O, 4, is greater than permitted\n",
      "Generating augmentations:  17%|████████▌                                          | 1680/10000 [08:22<27:59,  4.95it/s][11:38:54] Explicit valence for atom # 20 Cl, 2, is greater than permitted\n",
      "Generating augmentations:  17%|████████▌                                          | 1682/10000 [08:22<21:12,  6.54it/s][11:38:55] Explicit valence for atom # 10 H, 2, is greater than permitted\n",
      "Generating augmentations:  18%|█████████▏                                         | 1812/10000 [08:46<30:37,  4.46it/s][11:39:18] UFFTYPER: Unrecognized charge state for atom: 6\n",
      "[11:39:18] UFFTYPER: Unrecognized charge state for atom: 6\n",
      "Generating augmentations:  18%|████████▉                                        | 1825/10000 [08:54<1:22:07,  1.66it/s][11:39:26] Explicit valence for atom # 3 H, 2, is greater than permitted\n",
      "Generating augmentations:  19%|█████████▋                                         | 1903/10000 [09:11<21:52,  6.17it/s]"
     ]
    },
    {
     "name": "stdout",
     "output_type": "stream",
     "text": [
      "Failed to generate 3D conformer\n"
     ]
    },
    {
     "name": "stderr",
     "output_type": "stream",
     "text": [
      "\r",
      "Generating augmentations:  19%|█████████▎                                       | 1904/10000 [09:13<1:36:10,  1.40it/s]"
     ]
    },
    {
     "name": "stdout",
     "output_type": "stream",
     "text": [
      "Failed to generate 3D conformer\n"
     ]
    },
    {
     "name": "stderr",
     "output_type": "stream",
     "text": [
      "Generating augmentations:  20%|█████████▉                                         | 1952/10000 [09:22<24:03,  5.57it/s][11:39:54] Explicit valence for atom # 1 O, 3, is greater than permitted\n",
      "Generating augmentations:  20%|██████████▏                                        | 2009/10000 [09:35<23:17,  5.72it/s][11:40:07] Explicit valence for atom # 2 O, 4, is greater than permitted\n",
      "Generating augmentations:  20%|██████████▎                                        | 2026/10000 [09:39<22:20,  5.95it/s]"
     ]
    },
    {
     "name": "stdout",
     "output_type": "stream",
     "text": [
      "Failed to generate 3D conformer\n"
     ]
    },
    {
     "name": "stderr",
     "output_type": "stream",
     "text": [
      "\r",
      "Generating augmentations:  20%|█████████▋                                      | 2027/10000 [10:54<45:13:52, 20.42s/it]"
     ]
    },
    {
     "name": "stdout",
     "output_type": "stream",
     "text": [
      "Failed to generate 3D conformer\n"
     ]
    },
    {
     "name": "stderr",
     "output_type": "stream",
     "text": [
      "Generating augmentations:  21%|██████████▍                                        | 2057/10000 [11:01<39:28,  3.35it/s]"
     ]
    },
    {
     "name": "stdout",
     "output_type": "stream",
     "text": [
      "Failed to generate 3D conformer\n"
     ]
    },
    {
     "name": "stderr",
     "output_type": "stream",
     "text": [
      "Generating augmentations:  21%|██████████▌                                        | 2059/10000 [11:02<49:36,  2.67it/s]"
     ]
    },
    {
     "name": "stdout",
     "output_type": "stream",
     "text": [
      "Failed to generate 3D conformer\n"
     ]
    },
    {
     "name": "stderr",
     "output_type": "stream",
     "text": [
      "Generating augmentations:  21%|██████████▋                                        | 2095/10000 [11:08<15:30,  8.49it/s][11:41:40] Explicit valence for atom # 8 O, 6, is greater than permitted\n",
      "Generating augmentations:  21%|██████████▋                                        | 2103/10000 [11:09<14:46,  8.91it/s]"
     ]
    },
    {
     "name": "stdout",
     "output_type": "stream",
     "text": [
      "Failed to generate 3D conformer\n"
     ]
    },
    {
     "name": "stderr",
     "output_type": "stream",
     "text": [
      "Generating augmentations:  21%|██████████▎                                      | 2106/10000 [11:11<1:04:33,  2.04it/s]"
     ]
    },
    {
     "name": "stdout",
     "output_type": "stream",
     "text": [
      "Failed to generate 3D conformer\n",
      "Failed to generate 3D conformer\n"
     ]
    },
    {
     "name": "stderr",
     "output_type": "stream",
     "text": [
      "\r",
      "Generating augmentations:  21%|██████████                                      | 2108/10000 [11:36<11:25:56,  5.22s/it]"
     ]
    },
    {
     "name": "stdout",
     "output_type": "stream",
     "text": [
      "Failed to generate 3D conformer\n"
     ]
    },
    {
     "name": "stderr",
     "output_type": "stream",
     "text": [
      "\r",
      "Generating augmentations:  21%|██████████▎                                      | 2109/10000 [11:36<9:05:42,  4.15s/it]"
     ]
    },
    {
     "name": "stdout",
     "output_type": "stream",
     "text": [
      "Failed to generate 3D conformer\n"
     ]
    },
    {
     "name": "stderr",
     "output_type": "stream",
     "text": [
      "Generating augmentations:  21%|██████████▎                                      | 2113/10000 [11:40<4:33:15,  2.08s/it]"
     ]
    },
    {
     "name": "stdout",
     "output_type": "stream",
     "text": [
      "Failed to generate 3D conformer\n"
     ]
    },
    {
     "name": "stderr",
     "output_type": "stream",
     "text": [
      "Generating augmentations:  22%|███████████▍                                       | 2234/10000 [12:07<24:08,  5.36it/s][11:42:40] UFFTYPER: Unrecognized charge state for atom: 2\n",
      "[11:42:40] UFFTYPER: Unrecognized charge state for atom: 2\n",
      "Generating augmentations:  22%|███████████▍                                       | 2250/10000 [12:13<30:14,  4.27it/s][11:42:46] Explicit valence for atom # 29 F, 2, is greater than permitted\n",
      "Generating augmentations:  23%|███████████▋                                       | 2286/10000 [12:24<52:28,  2.45it/s][11:42:57] Explicit valence for atom # 8 Cl, 2, is greater than permitted\n",
      "Generating augmentations:  23%|███████████▋                                       | 2288/10000 [12:26<58:26,  2.20it/s]"
     ]
    },
    {
     "name": "stdout",
     "output_type": "stream",
     "text": [
      "Failed to generate 3D conformer\n"
     ]
    },
    {
     "name": "stderr",
     "output_type": "stream",
     "text": [
      "\r",
      "Generating augmentations:  23%|███████████▏                                     | 2289/10000 [12:28<2:08:42,  1.00s/it]"
     ]
    },
    {
     "name": "stdout",
     "output_type": "stream",
     "text": [
      "Failed to generate 3D conformer\n"
     ]
    },
    {
     "name": "stderr",
     "output_type": "stream",
     "text": [
      "Generating augmentations:  24%|████████████                                       | 2356/10000 [12:48<24:48,  5.14it/s][11:43:20] Explicit valence for atom # 16 Cl, 2, is greater than permitted\n",
      "Generating augmentations:  24%|████████████▏                                      | 2390/10000 [13:08<43:38,  2.91it/s]"
     ]
    },
    {
     "name": "stdout",
     "output_type": "stream",
     "text": [
      "Failed to generate 3D conformer\n"
     ]
    },
    {
     "name": "stderr",
     "output_type": "stream",
     "text": [
      "Generating augmentations:  24%|████████████▏                                      | 2401/10000 [13:11<29:02,  4.36it/s][11:43:43] UFFTYPER: Unrecognized charge state for atom: 3\n",
      "[11:43:43] UFFTYPER: Unrecognized charge state for atom: 7\n",
      "[11:43:43] UFFTYPER: Unrecognized charge state for atom: 3\n",
      "[11:43:43] UFFTYPER: Unrecognized charge state for atom: 7\n",
      "Generating augmentations:  25%|████████████▊                                      | 2517/10000 [18:19<37:09,  3.36it/s][11:48:52] Explicit valence for atom # 7 H, 3, is greater than permitted\n",
      "Generating augmentations:  26%|█████████████                                      | 2563/10000 [18:27<13:23,  9.26it/s]"
     ]
    },
    {
     "name": "stdout",
     "output_type": "stream",
     "text": [
      "Failed to generate 3D conformer\n"
     ]
    },
    {
     "name": "stderr",
     "output_type": "stream",
     "text": [
      "Generating augmentations:  26%|████████████▎                                   | 2566/10000 [22:43<68:19:07, 33.08s/it]"
     ]
    },
    {
     "name": "stdout",
     "output_type": "stream",
     "text": [
      "Failed to generate 3D conformer\n"
     ]
    },
    {
     "name": "stderr",
     "output_type": "stream",
     "text": [
      "Generating augmentations:  26%|████████████▌                                    | 2575/10000 [22:46<7:07:00,  3.45s/it][11:53:20] Explicit valence for atom # 14 H, 3, is greater than permitted\n",
      "Generating augmentations:  26%|█████████████▏                                     | 2591/10000 [22:50<24:57,  4.95it/s][11:53:23] Explicit valence for atom # 8 O, 6, is greater than permitted\n",
      "Generating augmentations:  27%|█████████████▉                                     | 2741/10000 [23:40<40:22,  3.00it/s]"
     ]
    },
    {
     "name": "stdout",
     "output_type": "stream",
     "text": [
      "Failed to generate 3D conformer\n"
     ]
    },
    {
     "name": "stderr",
     "output_type": "stream",
     "text": [
      "Generating augmentations:  27%|██████████████                                     | 2749/10000 [23:42<29:32,  4.09it/s][11:54:15] Explicit valence for atom # 1 O, 4, is greater than permitted\n",
      "Generating augmentations:  28%|██████████████                                     | 2751/10000 [23:43<44:24,  2.72it/s][11:54:16] Explicit valence for atom # 4 H, 2, is greater than permitted\n",
      "Generating augmentations:  28%|██████████████                                     | 2766/10000 [23:47<27:37,  4.37it/s][11:54:19] Explicit valence for atom # 2 O, 3, is greater than permitted\n",
      "Generating augmentations:  29%|██████████████                                   | 2860/10000 [24:40<1:12:33,  1.64it/s]"
     ]
    },
    {
     "name": "stdout",
     "output_type": "stream",
     "text": [
      "Failed to generate 3D conformer\n"
     ]
    },
    {
     "name": "stderr",
     "output_type": "stream",
     "text": [
      "Generating augmentations:  29%|██████████████▋                                    | 2885/10000 [24:51<15:05,  7.86it/s][11:55:24] Explicit valence for atom # 14 F, 2, is greater than permitted\n",
      "Generating augmentations:  29%|███████████████                                    | 2947/10000 [26:14<14:39,  8.02it/s][11:56:46] Explicit valence for atom # 5 H, 2, is greater than permitted\n",
      "Generating augmentations:  30%|███████████████▏                                   | 2985/10000 [26:20<37:19,  3.13it/s][11:56:53] Explicit valence for atom # 7 Cl, 2, is greater than permitted\n",
      "Generating augmentations:  30%|███████████████▎                                   | 2991/10000 [26:21<19:15,  6.06it/s][11:56:53] UFFTYPER: Unrecognized atom type: Se2+2 (16)\n",
      "Generating augmentations:  31%|███████████████▌                                   | 3054/10000 [26:31<15:54,  7.27it/s][11:57:03] UFFTYPER: Unrecognized atom type: S_6+6 (17)\n",
      "[11:57:03] UFFTYPER: Unrecognized atom type: S_6+6 (17)\n",
      "Generating augmentations:  31%|████████████████                                   | 3142/10000 [26:45<20:34,  5.56it/s][11:57:18] Explicit valence for atom # 9 H, 2, is greater than permitted\n",
      "Generating augmentations:  31%|████████████████                                   | 3145/10000 [26:45<20:22,  5.61it/s][11:57:18] UFFTYPER: Unrecognized atom type: Se2+2 (7)\n",
      "[11:57:18] UFFTYPER: Unrecognized atom type: Se2+2 (7)\n",
      "[11:57:18] UFFTYPER: Unrecognized atom type: Se2+2 (7)\n",
      "[11:57:18] UFFTYPER: Unrecognized atom type: Se2+2 (7)\n",
      "Generating augmentations:  32%|████████████████▍                                  | 3230/10000 [27:00<15:47,  7.15it/s][11:57:33] Explicit valence for atom # 2 O, 4, is greater than permitted\n",
      "Generating augmentations:  33%|████████████████▉                                  | 3329/10000 [27:18<16:27,  6.75it/s][11:57:51] Explicit valence for atom # 22 H, 3, is greater than permitted\n",
      "Generating augmentations:  33%|█████████████████                                  | 3349/10000 [27:21<14:44,  7.52it/s]"
     ]
    },
    {
     "name": "stdout",
     "output_type": "stream",
     "text": [
      "Failed to generate 3D conformer\n"
     ]
    },
    {
     "name": "stderr",
     "output_type": "stream",
     "text": [
      "\r",
      "Generating augmentations:  34%|█████████████████                                  | 3350/10000 [27:22<49:46,  2.23it/s]"
     ]
    },
    {
     "name": "stdout",
     "output_type": "stream",
     "text": [
      "Failed to generate 3D conformer\n"
     ]
    },
    {
     "name": "stderr",
     "output_type": "stream",
     "text": [
      "[11:57:55] UFFTYPER: Unrecognized charge state for atom: 5\n",
      "[11:57:55] UFFTYPER: Unrecognized charge state for atom: 5\n",
      "Generating augmentations:  34%|█████████████████▏                                 | 3378/10000 [27:31<13:25,  8.22it/s][11:58:04] Explicit valence for atom # 14 H, 2, is greater than permitted\n",
      "Generating augmentations:  35%|█████████████████▌                                 | 3451/10000 [27:41<12:01,  9.08it/s][11:58:14] Explicit valence for atom # 11 H, 3, is greater than permitted\n",
      "Generating augmentations:  35%|█████████████████▋                                 | 3477/10000 [27:46<16:26,  6.61it/s][11:58:18] Explicit valence for atom # 2 O, 4, is greater than permitted\n",
      "Generating augmentations:  35%|██████████████████                                 | 3530/10000 [27:55<16:23,  6.58it/s][11:58:28] UFFTYPER: Unrecognized charge state for atom: 13\n",
      "[11:58:28] UFFTYPER: Unrecognized charge state for atom: 13\n",
      "Generating augmentations:  35%|██████████████████                                 | 3540/10000 [27:57<16:31,  6.51it/s]"
     ]
    },
    {
     "name": "stdout",
     "output_type": "stream",
     "text": [
      "Failed to generate 3D conformer\n"
     ]
    },
    {
     "name": "stderr",
     "output_type": "stream",
     "text": [
      "\r",
      "Generating augmentations:  35%|█████████████████▎                               | 3541/10000 [28:07<4:27:38,  2.49s/it]"
     ]
    },
    {
     "name": "stdout",
     "output_type": "stream",
     "text": [
      "Failed to generate 3D conformer\n"
     ]
    },
    {
     "name": "stderr",
     "output_type": "stream",
     "text": [
      "Generating augmentations:  35%|█████████████████▍                               | 3549/10000 [28:11<1:16:05,  1.41it/s][11:58:44] Explicit valence for atom # 18 H, 4, is greater than permitted\n",
      "Generating augmentations:  36%|██████████████████▏                                | 3576/10000 [28:20<17:59,  5.95it/s][11:58:52] Explicit valence for atom # 11 H, 2, is greater than permitted\n",
      "Generating augmentations:  36%|██████████████████▎                                | 3580/10000 [28:20<20:42,  5.17it/s][11:58:55] Explicit valence for atom # 37 O, 4, is greater than permitted\n",
      "Generating augmentations:  36%|██████████████████▍                                | 3616/10000 [28:44<15:27,  6.88it/s][11:59:17] Explicit valence for atom # 7 H, 2, is greater than permitted\n",
      "Generating augmentations:  37%|██████████████████▋                                | 3656/10000 [28:50<14:40,  7.21it/s][11:59:22] Explicit valence for atom # 7 H, 2, is greater than permitted\n",
      "Generating augmentations:  37%|██████████████████▊                                | 3683/10000 [28:56<17:27,  6.03it/s]"
     ]
    },
    {
     "name": "stdout",
     "output_type": "stream",
     "text": [
      "Failed to generate 3D conformer\n"
     ]
    },
    {
     "name": "stderr",
     "output_type": "stream",
     "text": [
      "Generating augmentations:  37%|██████████████████▊                                | 3686/10000 [28:58<39:41,  2.65it/s]"
     ]
    },
    {
     "name": "stdout",
     "output_type": "stream",
     "text": [
      "Failed to generate 3D conformer\n"
     ]
    },
    {
     "name": "stderr",
     "output_type": "stream",
     "text": [
      "Generating augmentations:  37%|██████████████████▉                                | 3721/10000 [29:05<18:52,  5.54it/s][11:59:37] UFFTYPER: Unrecognized atom type: Se2+2 (19)\n",
      "Generating augmentations:  37%|███████████████████                                | 3728/10000 [29:06<14:53,  7.02it/s][11:59:38] Explicit valence for atom # 11 H, 3, is greater than permitted\n",
      "Generating augmentations:  38%|███████████████████▏                               | 3753/10000 [29:12<39:26,  2.64it/s][11:59:45] Explicit valence for atom # 1 O, 3, is greater than permitted\n",
      "Generating augmentations:  38%|███████████████████▏                               | 3761/10000 [29:14<22:33,  4.61it/s]"
     ]
    },
    {
     "name": "stdout",
     "output_type": "stream",
     "text": [
      "Failed to generate 3D conformer\n"
     ]
    },
    {
     "name": "stderr",
     "output_type": "stream",
     "text": [
      "\r",
      "Generating augmentations:  38%|███████████████████▏                               | 3762/10000 [29:15<50:03,  2.08it/s]"
     ]
    },
    {
     "name": "stdout",
     "output_type": "stream",
     "text": [
      "Failed to generate 3D conformer\n"
     ]
    },
    {
     "name": "stderr",
     "output_type": "stream",
     "text": [
      "Generating augmentations:  38%|███████████████████▎                               | 3792/10000 [29:22<15:26,  6.70it/s][11:59:55] UFFTYPER: Unrecognized charge state for atom: 8\n",
      "[11:59:55] UFFTYPER: Unrecognized charge state for atom: 8\n",
      "Generating augmentations:  38%|███████████████████▎                               | 3799/10000 [29:23<13:26,  7.68it/s][11:59:56] Explicit valence for atom # 9 H, 2, is greater than permitted\n",
      "Generating augmentations:  40%|████████████████████▏                              | 3965/10000 [30:03<15:28,  6.50it/s][12:00:35] UFFTYPER: Unrecognized atom type: Se2+2 (16)\n",
      "[12:00:35] UFFTYPER: Unrecognized atom type: Se2+2 (16)\n",
      "Generating augmentations:  40%|████████████████████▎                              | 3989/10000 [30:06<11:39,  8.59it/s]"
     ]
    },
    {
     "name": "stdout",
     "output_type": "stream",
     "text": [
      "Failed to generate 3D conformer\n"
     ]
    },
    {
     "name": "stderr",
     "output_type": "stream",
     "text": [
      "\r",
      "Generating augmentations:  40%|████████████████████▎                              | 3991/10000 [30:07<31:16,  3.20it/s]"
     ]
    },
    {
     "name": "stdout",
     "output_type": "stream",
     "text": [
      "Failed to generate 3D conformer\n"
     ]
    },
    {
     "name": "stderr",
     "output_type": "stream",
     "text": [
      "Generating augmentations:  41%|███████████████████▉                             | 4058/10000 [31:08<1:57:11,  1.18s/it][12:01:41] Explicit valence for atom # 25 Cl, 2, is greater than permitted\n",
      "Generating augmentations:  42%|█████████████████████▎                             | 4175/10000 [31:34<59:21,  1.64it/s][12:02:07] UFFTYPER: Unrecognized charge state for atom: 4\n",
      "[12:02:07] UFFTYPER: Unrecognized charge state for atom: 4\n",
      "Generating augmentations:  42%|█████████████████████▎                             | 4182/10000 [31:35<17:18,  5.60it/s][12:02:07] Explicit valence for atom # 7 H, 3, is greater than permitted\n",
      "Generating augmentations:  42%|█████████████████████▋                             | 4248/10000 [31:54<23:55,  4.01it/s][12:02:26] Explicit valence for atom # 11 F, 2, is greater than permitted\n",
      "Generating augmentations:  43%|██████████████████████                             | 4319/10000 [32:24<22:04,  4.29it/s][12:02:57] Explicit valence for atom # 13 H, 2, is greater than permitted\n",
      "Generating augmentations:  44%|██████████████████████▌                            | 4412/10000 [35:24<22:45,  4.09it/s][12:05:56] Explicit valence for atom # 14 H, 4, is greater than permitted\n",
      "Generating augmentations:  44%|██████████████████████▋                            | 4444/10000 [35:29<18:50,  4.92it/s]"
     ]
    },
    {
     "name": "stdout",
     "output_type": "stream",
     "text": [
      "Failed to generate 3D conformer\n"
     ]
    },
    {
     "name": "stderr",
     "output_type": "stream",
     "text": [
      "Generating augmentations:  44%|█████████████████████▊                           | 4446/10000 [35:35<1:53:35,  1.23s/it]"
     ]
    },
    {
     "name": "stdout",
     "output_type": "stream",
     "text": [
      "Failed to generate 3D conformer\n"
     ]
    },
    {
     "name": "stderr",
     "output_type": "stream",
     "text": [
      "Generating augmentations:  45%|███████████████████████                            | 4516/10000 [35:47<10:16,  8.90it/s][12:06:20] UFFTYPER: Unrecognized charge state for atom: 1\n",
      "[12:06:20] UFFTYPER: Unrecognized charge state for atom: 1\n",
      "Generating augmentations:  45%|███████████████████████                            | 4521/10000 [35:48<10:11,  8.95it/s]"
     ]
    },
    {
     "name": "stdout",
     "output_type": "stream",
     "text": [
      "Failed to generate 3D conformer\n"
     ]
    },
    {
     "name": "stderr",
     "output_type": "stream",
     "text": [
      "\r",
      "Generating augmentations:  45%|█████████████████████▋                          | 4522/10000 [39:36<61:46:28, 40.60s/it]"
     ]
    },
    {
     "name": "stdout",
     "output_type": "stream",
     "text": [
      "Failed to generate 3D conformer\n"
     ]
    },
    {
     "name": "stderr",
     "output_type": "stream",
     "text": [
      "Generating augmentations:  45%|██████████████████████▏                          | 4536/10000 [39:39<1:51:13,  1.22s/it][12:10:12] Explicit valence for atom # 2 O, 4, is greater than permitted\n",
      "Generating augmentations:  45%|███████████████████████▏                           | 4548/10000 [39:41<18:05,  5.02it/s][12:10:13] UFFTYPER: Unrecognized charge state for atom: 17\n",
      "[12:10:13] UFFTYPER: Unrecognized charge state for atom: 19\n",
      "[12:10:14] UFFTYPER: Unrecognized charge state for atom: 17\n",
      "[12:10:14] UFFTYPER: Unrecognized charge state for atom: 19\n",
      "Generating augmentations:  46%|███████████████████████▍                           | 4587/10000 [39:48<22:02,  4.09it/s][12:10:21] UFFTYPER: Unrecognized charge state for atom: 8\n",
      "[12:10:21] UFFTYPER: Unrecognized charge state for atom: 8\n",
      "Generating augmentations:  46%|██████████████████████▎                         | 4638/10000 [41:44<22:16:48, 14.96s/it][12:12:17] Can't kekulize mol.  Unkekulized atoms: 8 9 12 13 14\n",
      "Generating augmentations:  46%|██████████████████████▊                          | 4643/10000 [41:45<8:01:00,  5.39s/it]"
     ]
    },
    {
     "name": "stdout",
     "output_type": "stream",
     "text": [
      "Failed to generate 3D conformer\n"
     ]
    },
    {
     "name": "stderr",
     "output_type": "stream",
     "text": [
      "\r",
      "Generating augmentations:  46%|██████████████████████▎                         | 4644/10000 [46:02<73:01:05, 49.08s/it]"
     ]
    },
    {
     "name": "stdout",
     "output_type": "stream",
     "text": [
      "Failed to generate 3D conformer\n"
     ]
    },
    {
     "name": "stderr",
     "output_type": "stream",
     "text": [
      "Generating augmentations:  46%|██████████████████████▎                         | 4645/10000 [46:03<58:36:02, 39.40s/it][12:16:35] Explicit valence for atom # 10 O, 6, is greater than permitted\n",
      "Generating augmentations:  47%|███████████████████████▊                           | 4667/10000 [46:07<16:14,  5.47it/s][12:16:40] Explicit valence for atom # 50 O, 6, is greater than permitted\n",
      "Generating augmentations:  47%|███████████████████████▊                           | 4677/10000 [46:10<24:03,  3.69it/s]"
     ]
    },
    {
     "name": "stdout",
     "output_type": "stream",
     "text": [
      "Failed to generate 3D conformer\n",
      "Failed to generate 3D conformer\n"
     ]
    },
    {
     "name": "stderr",
     "output_type": "stream",
     "text": [
      "Generating augmentations:  47%|███████████████████████▉                           | 4685/10000 [46:12<16:38,  5.32it/s]"
     ]
    },
    {
     "name": "stdout",
     "output_type": "stream",
     "text": [
      "Failed to generate 3D conformer\n"
     ]
    },
    {
     "name": "stderr",
     "output_type": "stream",
     "text": [
      "\r",
      "Generating augmentations:  47%|██████████████████████▉                          | 4686/10000 [46:16<1:42:50,  1.16s/it]"
     ]
    },
    {
     "name": "stdout",
     "output_type": "stream",
     "text": [
      "Failed to generate 3D conformer\n"
     ]
    },
    {
     "name": "stderr",
     "output_type": "stream",
     "text": [
      "Generating augmentations:  47%|███████████████████████▉                           | 4693/10000 [46:17<30:26,  2.91it/s][12:16:50] Explicit valence for atom # 8 H, 4, is greater than permitted\n",
      "Generating augmentations:  47%|███████████████████████▉                           | 4696/10000 [46:17<18:48,  4.70it/s][12:16:50] Explicit valence for atom # 18 H, 2, is greater than permitted\n",
      "Generating augmentations:  47%|████████████████████████                           | 4714/10000 [46:24<24:01,  3.67it/s][12:16:56] Explicit valence for atom # 1 O, 4, is greater than permitted\n",
      "Generating augmentations:  47%|████████████████████████▏                          | 4742/10000 [46:35<49:13,  1.78it/s]"
     ]
    },
    {
     "name": "stdout",
     "output_type": "stream",
     "text": [
      "Failed to generate 3D conformer\n"
     ]
    },
    {
     "name": "stderr",
     "output_type": "stream",
     "text": [
      "Generating augmentations:  48%|████████████████████████▍                          | 4792/10000 [46:52<34:41,  2.50it/s]"
     ]
    },
    {
     "name": "stdout",
     "output_type": "stream",
     "text": [
      "Failed to generate 3D conformer\n"
     ]
    },
    {
     "name": "stderr",
     "output_type": "stream",
     "text": [
      "Generating augmentations:  48%|████████████████████████▍                          | 4795/10000 [46:54<44:17,  1.96it/s]"
     ]
    },
    {
     "name": "stdout",
     "output_type": "stream",
     "text": [
      "Failed to generate 3D conformer\n"
     ]
    },
    {
     "name": "stderr",
     "output_type": "stream",
     "text": [
      "Generating augmentations:  48%|████████████████████████▍                          | 4801/10000 [46:55<20:16,  4.27it/s][12:17:28] UFFTYPER: Unrecognized charge state for atom: 8\n",
      "[12:17:28] UFFTYPER: Unrecognized charge state for atom: 8\n",
      "Generating augmentations:  48%|████████████████████████▌                          | 4825/10000 [47:00<19:06,  4.51it/s][12:17:32] UFFTYPER: Unrecognized charge state for atom: 1\n",
      "[12:17:32] UFFTYPER: Unrecognized charge state for atom: 1\n",
      "Generating augmentations:  49%|███████████████████████▉                         | 4875/10000 [47:19<1:00:57,  1.40it/s][12:17:52] Explicit valence for atom # 1 O, 4, is greater than permitted\n",
      "Generating augmentations:  50%|█████████████████████████▎                         | 4968/10000 [47:56<12:37,  6.65it/s][12:18:28] Explicit valence for atom # 10 Cl, 2, is greater than permitted\n",
      "Generating augmentations:  50%|█████████████████████████▍                         | 4987/10000 [48:00<17:09,  4.87it/s][12:18:33] UFFTYPER: Unrecognized atom type: Se2+2 (9)\n",
      "[12:18:33] UFFTYPER: Unrecognized atom type: Se2+2 (9)\n",
      "Generating augmentations:  50%|█████████████████████████▋                         | 5040/10000 [48:09<17:27,  4.73it/s]"
     ]
    },
    {
     "name": "stdout",
     "output_type": "stream",
     "text": [
      "Failed to generate 3D conformer\n"
     ]
    },
    {
     "name": "stderr",
     "output_type": "stream",
     "text": [
      "\r",
      "Generating augmentations:  50%|█████████████████████████▋                         | 5041/10000 [48:10<31:44,  2.60it/s]"
     ]
    },
    {
     "name": "stdout",
     "output_type": "stream",
     "text": [
      "Failed to generate 3D conformer\n"
     ]
    },
    {
     "name": "stderr",
     "output_type": "stream",
     "text": [
      "Generating augmentations:  51%|█████████████████████████▊                         | 5072/10000 [48:17<14:17,  5.75it/s][12:18:50] Explicit valence for atom # 7 H, 4, is greater than permitted\n",
      "Generating augmentations:  51%|█████████████████████████▉                         | 5076/10000 [48:18<19:44,  4.16it/s][12:18:51] Explicit valence for atom # 8 H, 3, is greater than permitted\n",
      "Generating augmentations:  51%|█████████████████████████▏                       | 5130/10000 [48:38<1:51:48,  1.38s/it]"
     ]
    },
    {
     "name": "stdout",
     "output_type": "stream",
     "text": [
      "Failed to generate 3D conformer\n"
     ]
    },
    {
     "name": "stderr",
     "output_type": "stream",
     "text": [
      "Generating augmentations:  52%|██████████████████████████▋                        | 5242/10000 [49:13<23:21,  3.39it/s][12:19:46] Explicit valence for atom # 20 H, 2, is greater than permitted\n",
      "Generating augmentations:  53%|███████████████████████████▏                       | 5323/10000 [49:36<23:00,  3.39it/s][12:20:08] Explicit valence for atom # 9 F, 2, is greater than permitted\n",
      "Generating augmentations:  54%|███████████████████████████▍                       | 5381/10000 [49:51<22:09,  3.47it/s][12:20:24] Explicit valence for atom # 1 O, 3, is greater than permitted\n",
      "Generating augmentations:  54%|███████████████████████████▌                       | 5402/10000 [49:57<15:52,  4.83it/s]"
     ]
    },
    {
     "name": "stdout",
     "output_type": "stream",
     "text": [
      "Failed to generate 3D conformer\n"
     ]
    },
    {
     "name": "stderr",
     "output_type": "stream",
     "text": [
      "\r",
      "Generating augmentations:  54%|███████████████████████████▌                       | 5403/10000 [49:58<21:39,  3.54it/s]"
     ]
    },
    {
     "name": "stdout",
     "output_type": "stream",
     "text": [
      "Failed to generate 3D conformer\n"
     ]
    },
    {
     "name": "stderr",
     "output_type": "stream",
     "text": [
      "Generating augmentations:  54%|███████████████████████████▋                       | 5427/10000 [50:07<26:38,  2.86it/s]"
     ]
    },
    {
     "name": "stdout",
     "output_type": "stream",
     "text": [
      "Failed to generate 3D conformer\n"
     ]
    },
    {
     "name": "stderr",
     "output_type": "stream",
     "text": [
      "\r",
      "Generating augmentations:  54%|███████████████████████████▋                       | 5429/10000 [50:08<27:14,  2.80it/s]"
     ]
    },
    {
     "name": "stdout",
     "output_type": "stream",
     "text": [
      "Failed to generate 3D conformer\n"
     ]
    },
    {
     "name": "stderr",
     "output_type": "stream",
     "text": [
      "\r",
      "Generating augmentations:  54%|███████████████████████████▋                       | 5430/10000 [50:09<31:42,  2.40it/s]"
     ]
    },
    {
     "name": "stdout",
     "output_type": "stream",
     "text": [
      "Failed to generate 3D conformer\n"
     ]
    },
    {
     "name": "stderr",
     "output_type": "stream",
     "text": [
      "Generating augmentations:  54%|███████████████████████████▋                       | 5432/10000 [50:09<30:09,  2.52it/s]"
     ]
    },
    {
     "name": "stdout",
     "output_type": "stream",
     "text": [
      "Failed to generate 3D conformer\n"
     ]
    },
    {
     "name": "stderr",
     "output_type": "stream",
     "text": [
      "Generating augmentations:  54%|███████████████████████████▊                       | 5446/10000 [50:12<15:36,  4.86it/s]"
     ]
    },
    {
     "name": "stdout",
     "output_type": "stream",
     "text": [
      "Failed to generate 3D conformer\n",
      "Failed to generate 3D conformer\n"
     ]
    },
    {
     "name": "stderr",
     "output_type": "stream",
     "text": [
      "Generating augmentations:  55%|███████████████████████████▉                       | 5486/10000 [50:18<12:00,  6.26it/s]"
     ]
    },
    {
     "name": "stdout",
     "output_type": "stream",
     "text": [
      "Failed to generate 3D conformer\n",
      "Failed to generate 3D conformer\n"
     ]
    },
    {
     "name": "stderr",
     "output_type": "stream",
     "text": [
      "Generating augmentations:  55%|████████████████████████████                       | 5499/10000 [50:19<08:09,  9.20it/s][12:20:52] Explicit valence for atom # 10 H, 3, is greater than permitted\n",
      "Generating augmentations:  55%|████████████████████████████▏                      | 5515/10000 [50:23<10:52,  6.87it/s][12:20:55] Explicit valence for atom # 6 O, 6, is greater than permitted\n",
      "Generating augmentations:  56%|████████████████████████████▍                      | 5571/10000 [50:31<09:00,  8.20it/s][12:21:04] Explicit valence for atom # 1 O, 4, is greater than permitted\n",
      "Generating augmentations:  57%|████████████████████████████▉                      | 5667/10000 [50:46<09:09,  7.88it/s]"
     ]
    },
    {
     "name": "stdout",
     "output_type": "stream",
     "text": [
      "Failed to generate 3D conformer\n",
      "Failed to generate 3D conformer\n"
     ]
    },
    {
     "name": "stderr",
     "output_type": "stream",
     "text": [
      "Generating augmentations:  58%|█████████████████████████████▌                     | 5795/10000 [51:09<20:25,  3.43it/s][12:21:41] UFFTYPER: Unrecognized atom type: S_5+4 (1)\n",
      "[12:21:41] UFFTYPER: Unrecognized atom type: S_5+4 (1)\n",
      "Generating augmentations:  58%|█████████████████████████████▋                     | 5811/10000 [51:11<08:37,  8.10it/s][12:21:44] Explicit valence for atom # 8 Cl, 2, is greater than permitted\n",
      "Generating augmentations:  59%|█████████████████████████████▉                     | 5864/10000 [51:19<09:01,  7.64it/s][12:21:52] UFFTYPER: Unrecognized charge state for atom: 4\n",
      "Generating augmentations:  59%|██████████████████████████████                     | 5888/10000 [51:24<06:59,  9.80it/s][12:21:56] UFFTYPER: Unrecognized charge state for atom: 1\n",
      "Generating augmentations:  59%|██████████████████████████████▏                    | 5916/10000 [51:29<14:41,  4.63it/s][12:22:02] Explicit valence for atom # 2 O, 4, is greater than permitted\n",
      "Generating augmentations:  59%|██████████████████████████████▏                    | 5926/10000 [51:32<15:43,  4.32it/s][12:22:04] UFFTYPER: Unrecognized atom type: Se2+2 (7)\n",
      "Generating augmentations:  59%|██████████████████████████████▏                    | 5927/10000 [51:32<14:45,  4.60it/s][12:22:04] UFFTYPER: Unrecognized atom type: S_5+4 (10)\n",
      "[12:22:05] UFFTYPER: Unrecognized atom type: S_5+4 (10)\n",
      "Generating augmentations:  60%|██████████████████████████████▍                    | 5964/10000 [51:40<14:25,  4.66it/s][12:22:13] Explicit valence for atom # 21 H, 3, is greater than permitted\n",
      "Generating augmentations:  60%|██████████████████████████████▌                    | 5991/10000 [51:45<21:34,  3.10it/s][12:22:17] Explicit valence for atom # 7 H, 2, is greater than permitted\n",
      "Generating augmentations:  61%|██████████████████████████████▉                    | 6055/10000 [51:58<10:34,  6.22it/s][12:22:31] Explicit valence for atom # 1 O, 4, is greater than permitted\n",
      "[12:22:31] Explicit valence for atom # 1 O, 3, is greater than permitted\n",
      "Generating augmentations:  61%|███████████████████████████████                    | 6085/10000 [52:06<31:24,  2.08it/s][12:22:38] UFFTYPER: Unrecognized atom type: Se2+2 (11)\n",
      "[12:22:38] UFFTYPER: Unrecognized atom type: Se2+2 (11)\n",
      "Generating augmentations:  61%|███████████████████████████████▏                   | 6121/10000 [52:12<10:42,  6.04it/s]"
     ]
    },
    {
     "name": "stdout",
     "output_type": "stream",
     "text": [
      "Failed to generate 3D conformer\n"
     ]
    },
    {
     "name": "stderr",
     "output_type": "stream",
     "text": [
      "Generating augmentations:  61%|███████████████████████████████▏                   | 6123/10000 [52:12<14:05,  4.58it/s]"
     ]
    },
    {
     "name": "stdout",
     "output_type": "stream",
     "text": [
      "Failed to generate 3D conformer\n"
     ]
    },
    {
     "name": "stderr",
     "output_type": "stream",
     "text": [
      "Generating augmentations:  62%|███████████████████████████████▎                   | 6150/10000 [52:17<13:29,  4.75it/s][12:22:50] UFFTYPER: Unrecognized hybridization for atom: 1\n",
      "[12:22:50] UFFTYPER: Unrecognized atom type: Pt+2 (1)\n",
      "[12:22:50] UFFTYPER: Unrecognized hybridization for atom: 1\n",
      "[12:22:50] UFFTYPER: Unrecognized atom type: Pt+2 (1)\n",
      "Generating augmentations:  63%|███████████████████████████████▉                   | 6268/10000 [52:40<09:44,  6.39it/s]"
     ]
    },
    {
     "name": "stdout",
     "output_type": "stream",
     "text": [
      "Failed to generate 3D conformer\n",
      "Failed to generate 3D conformer\n"
     ]
    },
    {
     "name": "stderr",
     "output_type": "stream",
     "text": [
      "Generating augmentations:  63%|███████████████████████████████▉                   | 6272/10000 [52:41<15:14,  4.08it/s][12:23:14] Explicit valence for atom # 2 O, 4, is greater than permitted\n",
      "Generating augmentations:  63%|████████████████████████████████▏                  | 6308/10000 [52:50<20:53,  2.94it/s][12:23:22] Explicit valence for atom # 3 O, 4, is greater than permitted\n",
      "Generating augmentations:  64%|████████████████████████████████▌                  | 6377/10000 [53:06<31:15,  1.93it/s]"
     ]
    },
    {
     "name": "stdout",
     "output_type": "stream",
     "text": [
      "Failed to generate 3D conformer\n",
      "Failed to generate 3D conformer\n"
     ]
    },
    {
     "name": "stderr",
     "output_type": "stream",
     "text": [
      "Generating augmentations:  64%|████████████████████████████████▌                  | 6383/10000 [53:07<12:33,  4.80it/s][12:23:39] Explicit valence for atom # 5 H, 2, is greater than permitted\n",
      "Generating augmentations:  65%|█████████████████████████████████▎                 | 6543/10000 [53:32<11:54,  4.84it/s][12:24:04] Explicit valence for atom # 2 O, 4, is greater than permitted\n",
      "Generating augmentations:  66%|█████████████████████████████████▊                 | 6626/10000 [53:47<07:38,  7.35it/s][12:24:20] Can't kekulize mol.  Unkekulized atoms: 4 5 6 7 8 9 10 21 22\n",
      "Generating augmentations:  67%|██████████████████████████████████                 | 6670/10000 [53:56<21:42,  2.56it/s]"
     ]
    },
    {
     "name": "stdout",
     "output_type": "stream",
     "text": [
      "Failed to generate 3D conformer\n",
      "Failed to generate 3D conformer\n"
     ]
    },
    {
     "name": "stderr",
     "output_type": "stream",
     "text": [
      "Generating augmentations:  67%|██████████████████████████████████▍                | 6744/10000 [54:14<16:36,  3.27it/s][12:24:47] Explicit valence for atom # 24 H, 2, is greater than permitted\n",
      "Generating augmentations:  68%|██████████████████████████████████▊                | 6821/10000 [54:46<05:47,  9.16it/s][12:25:19] Explicit valence for atom # 13 F, 2, is greater than permitted\n",
      "Generating augmentations:  69%|██████████████████████████████████▉                | 6853/10000 [54:53<39:19,  1.33it/s]"
     ]
    },
    {
     "name": "stdout",
     "output_type": "stream",
     "text": [
      "Failed to generate 3D conformer\n"
     ]
    },
    {
     "name": "stderr",
     "output_type": "stream",
     "text": [
      "Generating augmentations:  69%|███████████████████████████████████▎               | 6926/10000 [55:21<22:44,  2.25it/s][12:25:54] Explicit valence for atom # 15 O, 3, is greater than permitted\n",
      "Generating augmentations:  69%|███████████████████████████████████▎               | 6933/10000 [55:23<13:41,  3.73it/s]"
     ]
    },
    {
     "name": "stdout",
     "output_type": "stream",
     "text": [
      "Failed to generate 3D conformer\n"
     ]
    },
    {
     "name": "stderr",
     "output_type": "stream",
     "text": [
      "Generating augmentations:  69%|███████████████████████████████████▎               | 6935/10000 [55:25<22:35,  2.26it/s]"
     ]
    },
    {
     "name": "stdout",
     "output_type": "stream",
     "text": [
      "Failed to generate 3D conformer\n"
     ]
    },
    {
     "name": "stderr",
     "output_type": "stream",
     "text": [
      "Generating augmentations:  69%|███████████████████████████████████▍               | 6938/10000 [55:25<15:24,  3.31it/s][12:25:58] Explicit valence for atom # 7 H, 2, is greater than permitted\n",
      "Generating augmentations:  69%|███████████████████████████████████▍               | 6943/10000 [55:27<12:28,  4.09it/s]"
     ]
    },
    {
     "name": "stdout",
     "output_type": "stream",
     "text": [
      "Failed to generate 3D conformer\n"
     ]
    },
    {
     "name": "stderr",
     "output_type": "stream",
     "text": [
      "\r",
      "Generating augmentations:  69%|█████████████████████████████████▎              | 6944/10000 [59:22<50:19:19, 59.28s/it]"
     ]
    },
    {
     "name": "stdout",
     "output_type": "stream",
     "text": [
      "Failed to generate 3D conformer\n"
     ]
    },
    {
     "name": "stderr",
     "output_type": "stream",
     "text": [
      "Generating augmentations:  71%|████████████████████████████████████               | 7072/10000 [59:44<05:20,  9.14it/s][12:30:17] Explicit valence for atom # 23 H, 4, is greater than permitted\n",
      "Generating augmentations:  71%|████████████████████████████████████▏              | 7102/10000 [59:51<06:13,  7.75it/s][12:30:26] Explicit valence for atom # 14 O, 3, is greater than permitted\n",
      "Generating augmentations:  71%|██████████████████████████████████▉              | 7130/10000 [1:00:09<47:00,  1.02it/s][12:30:42] Explicit valence for atom # 3 O, 4, is greater than permitted\n",
      "Generating augmentations:  71%|███████████████████████████████████              | 7149/10000 [1:00:12<06:09,  7.71it/s][12:30:44] Explicit valence for atom # 27 H, 2, is greater than permitted\n",
      "Generating augmentations:  72%|███████████████████████████████████▏             | 7179/10000 [1:00:16<06:03,  7.77it/s][12:30:48] UFFTYPER: Unrecognized charge state for atom: 3\n",
      "[12:30:48] UFFTYPER: Unrecognized charge state for atom: 3\n",
      "Generating augmentations:  72%|███████████████████████████████████▎             | 7194/10000 [1:00:18<08:07,  5.76it/s][12:30:50] UFFTYPER: Unrecognized charge state for atom: 15\n",
      "[12:30:50] UFFTYPER: Unrecognized charge state for atom: 15\n",
      "Generating augmentations:  72%|███████████████████████████████████▌             | 7250/10000 [1:00:27<04:32, 10.11it/s][12:31:00] UFFTYPER: Unrecognized atom type: S_5+4 (15)\n",
      "[12:31:00] UFFTYPER: Unrecognized atom type: S_5+4 (15)\n",
      "Generating augmentations:  73%|███████████████████████████████████▊             | 7316/10000 [1:00:36<04:32,  9.86it/s][12:31:09] Explicit valence for atom # 19 H, 2, is greater than permitted\n",
      "Generating augmentations:  74%|████████████████████████████████████▏            | 7389/10000 [1:01:01<05:15,  8.27it/s][12:31:34] Explicit valence for atom # 1 O, 4, is greater than permitted\n",
      "Generating augmentations:  74%|████████████████████████████████████▎            | 7400/10000 [1:01:02<07:01,  6.17it/s][12:31:35] Explicit valence for atom # 37 H, 2, is greater than permitted\n",
      "Generating augmentations:  74%|████████████████████████████████████▎            | 7404/10000 [1:01:04<13:20,  3.24it/s]"
     ]
    },
    {
     "name": "stdout",
     "output_type": "stream",
     "text": [
      "Failed to generate 3D conformer\n"
     ]
    },
    {
     "name": "stderr",
     "output_type": "stream",
     "text": [
      "Generating augmentations:  75%|████████████████████████████████████▊            | 7507/10000 [1:01:27<05:11,  8.00it/s][12:31:59] Explicit valence for atom # 9 H, 3, is greater than permitted\n",
      "Generating augmentations:  75%|████████████████████████████████████▊            | 7509/10000 [1:01:27<04:51,  8.55it/s][12:32:00] Explicit valence for atom # 11 F, 2, is greater than permitted\n",
      "Generating augmentations:  75%|████████████████████████████████████▉            | 7526/10000 [1:01:30<09:57,  4.14it/s][12:32:02] Explicit valence for atom # 20 H, 3, is greater than permitted\n",
      "Generating augmentations:  76%|█████████████████████████████████████            | 7564/10000 [1:01:39<17:50,  2.28it/s][12:32:12] Explicit valence for atom # 10 H, 4, is greater than permitted\n",
      "Generating augmentations:  76%|█████████████████████████████████████▏           | 7585/10000 [1:01:42<04:47,  8.39it/s]"
     ]
    },
    {
     "name": "stdout",
     "output_type": "stream",
     "text": [
      "Failed to generate 3D conformer\n"
     ]
    },
    {
     "name": "stderr",
     "output_type": "stream",
     "text": [
      "Generating augmentations:  76%|█████████████████████████████████████▏           | 7589/10000 [1:01:43<10:23,  3.87it/s]"
     ]
    },
    {
     "name": "stdout",
     "output_type": "stream",
     "text": [
      "Failed to generate 3D conformer\n"
     ]
    },
    {
     "name": "stderr",
     "output_type": "stream",
     "text": [
      "Generating augmentations:  76%|█████████████████████████████████████▏           | 7591/10000 [1:01:44<08:18,  4.84it/s][12:32:16] UFFTYPER: Unrecognized atom type: Se2+2 (25)\n",
      "Generating augmentations:  76%|█████████████████████████████████████▎           | 7623/10000 [1:01:49<07:29,  5.29it/s][12:32:22] Explicit valence for atom # 24 O, 4, is greater than permitted\n",
      "Generating augmentations:  76%|█████████████████████████████████████▎           | 7624/10000 [1:01:49<07:46,  5.10it/s][12:32:22] Explicit valence for atom # 12 H, 3, is greater than permitted\n",
      "Generating augmentations:  77%|█████████████████████████████████████▋           | 7681/10000 [1:01:58<05:15,  7.34it/s][12:32:31] Explicit valence for atom # 9 H, 2, is greater than permitted\n",
      "Generating augmentations:  78%|██████████████████████████████████████           | 7759/10000 [1:02:18<17:21,  2.15it/s][12:32:50] Explicit valence for atom # 4 H, 4, is greater than permitted\n",
      "Generating augmentations:  78%|██████████████████████████████████████           | 7763/10000 [1:02:18<10:16,  3.63it/s][12:32:51] UFFTYPER: Unrecognized charge state for atom: 9\n",
      "Generating augmentations:  78%|██████████████████████████████████████▎          | 7814/10000 [1:02:27<05:34,  6.53it/s][12:33:00] Explicit valence for atom # 16 H, 2, is greater than permitted\n",
      "Generating augmentations:  78%|██████████████████████████████████████▍          | 7835/10000 [1:02:30<04:18,  8.38it/s][12:33:03] Explicit valence for atom # 9 H, 2, is greater than permitted\n",
      "Generating augmentations:  79%|██████████████████████████████████████▋          | 7892/10000 [1:02:40<11:17,  3.11it/s]"
     ]
    },
    {
     "name": "stdout",
     "output_type": "stream",
     "text": [
      "Failed to generate 3D conformer\n"
     ]
    },
    {
     "name": "stderr",
     "output_type": "stream",
     "text": [
      "Generating augmentations:  79%|██████████████████████████████████████▉          | 7946/10000 [1:02:53<06:22,  5.38it/s][12:33:26] Explicit valence for atom # 13 O, 4, is greater than permitted\n",
      "Generating augmentations:  80%|███████████████████████████████████████          | 7973/10000 [1:02:56<05:46,  5.86it/s][12:33:29] Explicit valence for atom # 19 Cl, 2, is greater than permitted\n",
      "Generating augmentations:  80%|███████████████████████████████████████▍         | 8042/10000 [1:03:12<05:08,  6.34it/s][12:33:45] Explicit valence for atom # 10 O, 6, is greater than permitted\n",
      "Generating augmentations:  81%|███████████████████████████████████████▌         | 8075/10000 [1:03:17<05:58,  5.37it/s]"
     ]
    },
    {
     "name": "stdout",
     "output_type": "stream",
     "text": [
      "Failed to generate 3D conformer\n"
     ]
    },
    {
     "name": "stderr",
     "output_type": "stream",
     "text": [
      "Generating augmentations:  81%|███████████████████████████████████████▋         | 8107/10000 [1:03:21<04:49,  6.54it/s][12:33:54] Explicit valence for atom # 1 O, 4, is greater than permitted\n",
      "Generating augmentations:  81%|███████████████████████████████████████▊         | 8131/10000 [1:03:26<06:00,  5.19it/s][12:33:59] Explicit valence for atom # 12 H, 4, is greater than permitted\n",
      "Generating augmentations:  81%|███████████████████████████████████████▉         | 8148/10000 [1:03:29<07:16,  4.24it/s]"
     ]
    },
    {
     "name": "stdout",
     "output_type": "stream",
     "text": [
      "Failed to generate 3D conformer\n"
     ]
    },
    {
     "name": "stderr",
     "output_type": "stream",
     "text": [
      "\r",
      "Generating augmentations:  81%|██████████████████████████████████████▎        | 8149/10000 [1:03:42<1:36:47,  3.14s/it]"
     ]
    },
    {
     "name": "stdout",
     "output_type": "stream",
     "text": [
      "Failed to generate 3D conformer\n"
     ]
    },
    {
     "name": "stderr",
     "output_type": "stream",
     "text": [
      "Generating augmentations:  82%|███████████████████████████████████████▉         | 8159/10000 [1:03:44<10:01,  3.06it/s][12:34:16] UFFTYPER: Unrecognized charge state for atom: 2\n",
      "[12:34:16] Explicit valence for atom # 16 F, 2, is greater than permitted\n",
      "Generating augmentations:  82%|████████████████████████████████████████▎        | 8218/10000 [1:03:53<03:22,  8.80it/s]"
     ]
    },
    {
     "name": "stdout",
     "output_type": "stream",
     "text": [
      "Failed to generate 3D conformer\n"
     ]
    },
    {
     "name": "stderr",
     "output_type": "stream",
     "text": [
      "Generating augmentations:  82%|████████████████████████████████████████▎        | 8222/10000 [1:03:55<05:33,  5.33it/s]"
     ]
    },
    {
     "name": "stdout",
     "output_type": "stream",
     "text": [
      "Failed to generate 3D conformer\n"
     ]
    },
    {
     "name": "stderr",
     "output_type": "stream",
     "text": [
      "Generating augmentations:  83%|████████████████████████████████████████▌        | 8268/10000 [1:04:03<03:53,  7.43it/s][12:34:35] Explicit valence for atom # 12 H, 3, is greater than permitted\n",
      "Generating augmentations:  83%|████████████████████████████████████████▊        | 8329/10000 [1:05:01<04:35,  6.06it/s][12:35:34] UFFTYPER: Unrecognized atom type: Se2+2 (14)\n",
      "Generating augmentations:  86%|████████████████████████████████████████▎      | 8570/10000 [1:06:37<2:38:17,  6.64s/it]"
     ]
    },
    {
     "name": "stdout",
     "output_type": "stream",
     "text": [
      "Failed to generate 3D conformer\n"
     ]
    },
    {
     "name": "stderr",
     "output_type": "stream",
     "text": [
      "Generating augmentations:  87%|██████████████████████████████████████████▍      | 8655/10000 [1:06:49<11:37,  1.93it/s][12:37:21] Explicit valence for atom # 14 H, 3, is greater than permitted\n",
      "Generating augmentations:  87%|██████████████████████████████████████████▌      | 8682/10000 [1:07:06<03:28,  6.32it/s]"
     ]
    },
    {
     "name": "stdout",
     "output_type": "stream",
     "text": [
      "Failed to generate 3D conformer\n"
     ]
    },
    {
     "name": "stderr",
     "output_type": "stream",
     "text": [
      "Generating augmentations:  87%|██████████████████████████████████████████▌      | 8684/10000 [1:07:08<08:19,  2.63it/s]"
     ]
    },
    {
     "name": "stdout",
     "output_type": "stream",
     "text": [
      "Failed to generate 3D conformer\n"
     ]
    },
    {
     "name": "stderr",
     "output_type": "stream",
     "text": [
      "Generating augmentations:  87%|██████████████████████████████████████████▋      | 8707/10000 [1:07:10<02:00, 10.76it/s][12:37:43] Explicit valence for atom # 11 H, 3, is greater than permitted\n",
      "Generating augmentations:  87%|██████████████████████████████████████████▊      | 8732/10000 [1:07:14<03:56,  5.36it/s][12:37:47] Explicit valence for atom # 11 H, 3, is greater than permitted\n",
      "Generating augmentations:  88%|███████████████████████████████████████████▎     | 8844/10000 [1:12:10<03:17,  5.86it/s]"
     ]
    },
    {
     "name": "stdout",
     "output_type": "stream",
     "text": [
      "Failed to generate 3D conformer\n"
     ]
    },
    {
     "name": "stderr",
     "output_type": "stream",
     "text": [
      "Generating augmentations:  89%|███████████████████████████████████████████▌     | 8883/10000 [1:12:17<03:32,  5.26it/s]"
     ]
    },
    {
     "name": "stdout",
     "output_type": "stream",
     "text": [
      "Failed to generate 3D conformer\n"
     ]
    }
   ],
   "source": [
    "def main():\n",
    "    # Enable anomaly detection during development\n",
    "    torch.autograd.set_detect_anomaly(True)\n",
    "    # Set random seeds for reproducibility\n",
    "    torch.manual_seed(42)\n",
    "    np.random.seed(42)\n",
    "    \n",
    "    # Create timestamp for file naming\n",
    "    timestamp = datetime.now().strftime('%Y%m%d_%H%M%S')\n",
    "    \n",
    "    print(\"Starting data loading...\")\n",
    "    extractor = MolecularFeatureExtractor()\n",
    "    smiles_file = \"D:\\\\PhD\\\\Chapter3\\\\Unsupervised_GAN_Code\\\\pubchem-10m-clean_test10k.txt\"\n",
    "#     smiles_file = \"D:\\\\PhD\\\\Chapter3\\\\Unsupervised_GAN_Code\\\\pubchem-41-clean.txt\"\n",
    "    \n",
    "    dataset = []\n",
    "    failed_smiles = []\n",
    "    smiles_list = []\n",
    "    \n",
    "    with open(smiles_file, 'r') as f:\n",
    "        for line in f:\n",
    "            smiles = line.strip()\n",
    "            smiles_list.append(smiles)\n",
    "            data = extractor.process_molecule(smiles)\n",
    "            if data is not None:\n",
    "                # Store SMILES as an attribute for later use\n",
    "                data.smiles = smiles\n",
    "                dataset.append(data)\n",
    "            else:\n",
    "                failed_smiles.append(smiles)\n",
    "    \n",
    "    print(f\"1. Loaded dataset with {len(dataset)} graphs.\")\n",
    "    print(f\"2. Failed SMILES count: {len(failed_smiles)}\")\n",
    "    \n",
    "    if not dataset:\n",
    "        print(\"No valid graphs generated.\")\n",
    "        return None\n",
    "    \n",
    "    # Set device\n",
    "    device = torch.device('cuda' if torch.cuda.is_available() else 'cpu')\n",
    "    print(f\"3. Using device: {device}\")\n",
    "    \n",
    "    # Create output directories\n",
    "    save_dir = './checkpoints_manual'\n",
    "    embedding_dir = './embeddings'\n",
    "    os.makedirs(save_dir, exist_ok=True)\n",
    "    os.makedirs(embedding_dir, exist_ok=True)\n",
    "    \n",
    "    # Initialize the augmenter\n",
    "    print(\"4. Creating molecular augmenter...\")\n",
    "    augmenter = MolecularAugmenter(smiles_list, extractor)\n",
    "    \n",
    "    # Generate augmented dataset\n",
    "    print(\"5. Generating augmented molecules...\")\n",
    "    augmented_dataset = augmenter.generate_augmented_dataset(num_augmentations=1)\n",
    "    print(f\"   - Generated {len(augmented_dataset)} molecules (including originals)\")\n",
    "    \n",
    "    # Setup training parameters\n",
    "    batch_size = 32\n",
    "    hidden_dim = 128\n",
    "    output_dim = 128\n",
    "    epochs = 50\n",
    "    lr = 1e-4\n",
    "    \n",
    "    # Train the encoder with manual augmentations\n",
    "    print(\"6. Training encoder with manual augmentations...\")\n",
    "    model, embeddings = train_encoder_with_manual_augmentations(\n",
    "        dataset,\n",
    "        extractor,\n",
    "        output_dir=embedding_dir,\n",
    "        batch_size=batch_size,\n",
    "        epochs=epochs,\n",
    "        lr=lr,\n",
    "        hidden_dim=hidden_dim,\n",
    "        output_dim=output_dim,\n",
    "        device=device\n",
    "    )\n",
    "    \n",
    "    print(\"7. Training completed!\")\n",
    "    \n",
    "    # Save additional metadata\n",
    "    metadata_dir = os.path.join(embedding_dir, 'metadata')\n",
    "    os.makedirs(metadata_dir, exist_ok=True)\n",
    "    \n",
    "    # Extract and save molecule metadata\n",
    "    print(\"8. Extracting molecule metadata...\")\n",
    "    metadata = extract_molecule_metadata(dataset)\n",
    "    with open(os.path.join(metadata_dir, f'molecule_metadata_manual_{timestamp}.pkl'), 'wb') as f:\n",
    "        pickle.dump(metadata, f)\n",
    "    \n",
    "    # Save the final model\n",
    "    print(\"9. Saving final model...\")\n",
    "    torch.save({\n",
    "        'model_state_dict': model.state_dict(),\n",
    "        'config': {\n",
    "            'node_dim': model.node_encoder[0].in_features,\n",
    "            'edge_dim': model.edge_encoder[0].in_features,\n",
    "            'hidden_dim': hidden_dim,\n",
    "            'output_dim': output_dim\n",
    "        }\n",
    "    }, os.path.join(save_dir, 'final_manual_encoder.pt'))\n",
    "    \n",
    "    # Save embeddings with molecules\n",
    "    final_embedding_path = f'./embeddings/manual_embeddings_molecules_{timestamp}.pkl'\n",
    "    \n",
    "    # Create a dictionary with embeddings and molecule data\n",
    "    embedding_data = {\n",
    "        'embeddings': embeddings,\n",
    "        'molecule_data': [{\n",
    "            'smiles': getattr(data, 'smiles', ''),\n",
    "            'num_nodes': data.num_nodes,\n",
    "            'edge_index': data.edge_index.tolist() if hasattr(data, 'edge_index') else None,\n",
    "            'x_cat': data.x_cat.tolist() if hasattr(data, 'x_cat') else None,\n",
    "            'x_phys': data.x_phys.tolist() if hasattr(data, 'x_phys') else None,\n",
    "            'edge_attr': data.edge_attr.tolist() if hasattr(data, 'edge_attr') else None\n",
    "        } for data in dataset]\n",
    "    }\n",
    "    \n",
    "    with open(final_embedding_path, 'wb') as f:\n",
    "        pickle.dump(embedding_data, f)\n",
    "    \n",
    "    print(f\"10. Final embeddings saved to {final_embedding_path}\")\n",
    "    print(f\"11. Manual encoder saved to {os.path.join(save_dir, 'final_manual_encoder.pt')}\")\n",
    "    \n",
    "    return model, embeddings, dataset\n",
    "\n",
    "if __name__ == \"__main__\":\n",
    "    model, embeddings, dataset = main()"
   ]
  },
  {
   "cell_type": "code",
   "execution_count": null,
   "id": "27d928ef",
   "metadata": {},
   "outputs": [],
   "source": []
  }
 ],
 "metadata": {
  "kernelspec": {
   "display_name": "Python 3 (ipykernel)",
   "language": "python",
   "name": "python3"
  },
  "language_info": {
   "codemirror_mode": {
    "name": "ipython",
    "version": 3
   },
   "file_extension": ".py",
   "mimetype": "text/x-python",
   "name": "python",
   "nbconvert_exporter": "python",
   "pygments_lexer": "ipython3",
   "version": "3.9.21"
  }
 },
 "nbformat": 4,
 "nbformat_minor": 5
}
