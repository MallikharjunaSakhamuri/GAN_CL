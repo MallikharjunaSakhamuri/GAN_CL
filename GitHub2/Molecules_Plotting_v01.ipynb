{
  "nbformat": 4,
  "nbformat_minor": 0,
  "metadata": {
    "colab": {
      "provenance": []
    },
    "kernelspec": {
      "name": "python3",
      "display_name": "Python 3"
    },
    "language_info": {
      "name": "python"
    }
  },
  "cells": [
    {
      "cell_type": "code",
      "source": [
        "!pip install rdkit"
      ],
      "metadata": {
        "colab": {
          "base_uri": "https://localhost:8080/"
        },
        "id": "VpBpj6vGf32l",
        "outputId": "a718e897-be21-4970-f556-6d1248bbee30"
      },
      "execution_count": 5,
      "outputs": [
        {
          "output_type": "stream",
          "name": "stdout",
          "text": [
            "Requirement already satisfied: rdkit in /usr/local/lib/python3.11/dist-packages (2024.9.5)\n",
            "Requirement already satisfied: numpy in /usr/local/lib/python3.11/dist-packages (from rdkit) (1.26.4)\n",
            "Requirement already satisfied: Pillow in /usr/local/lib/python3.11/dist-packages (from rdkit) (11.1.0)\n"
          ]
        }
      ]
    },
    {
      "cell_type": "code",
      "execution_count": 6,
      "metadata": {
        "colab": {
          "base_uri": "https://localhost:8080/"
        },
        "id": "9DIiHwNNfwxu",
        "outputId": "aea004f8-1471-4f16-e0d3-ba4fa0843eb0"
      },
      "outputs": [
        {
          "output_type": "stream",
          "name": "stderr",
          "text": [
            "<ipython-input-6-d6b54e1b3750>:71: UserWarning: This figure includes Axes that are not compatible with tight_layout, so results might be incorrect.\n",
            "  plt.tight_layout(rect=[0, 0, 0.9, 0.95])\n"
          ]
        },
        {
          "output_type": "stream",
          "name": "stdout",
          "text": [
            "Successfully created fixed visualization for cluster 6 with simplified SMILES\n"
          ]
        }
      ],
      "source": [
        "import json\n",
        "import matplotlib.pyplot as plt\n",
        "from matplotlib.colors import LinearSegmentedColormap\n",
        "from rdkit import Chem\n",
        "from rdkit.Chem import Draw, AllChem\n",
        "import rdkit.Chem.Descriptors as Desc\n",
        "import re\n",
        "\n",
        "# Load data\n",
        "with open('cluster_info.json', 'r') as f:\n",
        "    data = json.load(f)\n",
        "\n",
        "# Create custom purple-to-yellow colormap\n",
        "colors = [(0.5, 0, 0.8), (1, 0, 0), (1, 1, 0)]  # Purple -> Red -> Yellow\n",
        "cm = LinearSegmentedColormap.from_list('custom_cmap', colors, N=100)\n",
        "\n",
        "# Extract cluster 6\n",
        "cluster_6 = next((c for c in data if c['cluster_id'] == 6), None)\n",
        "\n",
        "# Alternative SMILES for cluster 6 representatives that should render properly\n",
        "simplified_smiles = [\n",
        "    # First representative - dimethylbenzene with piperidine amide\n",
        "    \"Cc1ccc(C)c(C(=O)N2CCC(C)(CN)CC2)c1\",\n",
        "\n",
        "    # Second representative - complex hydrazone with triazine structure\n",
        "    \"CC1=NN(C2=NC(=O)C(C)=NN2)C(=O)c1C(=O)NN=Cc1cc(O)c(O)c(O)c1[N+](=O)[O-]\",\n",
        "\n",
        "    # Third representative - brominated indole with dioxolane\n",
        "    \"Brc1cnc2c(NCC3OC4(OC3)CCOC4)ccnc2c1\"\n",
        "]\n",
        "\n",
        "# Create a figure for cluster 6\n",
        "fig, axes = plt.subplots(1, 3, figsize=(18, 5))\n",
        "\n",
        "# Set title\n",
        "fig.suptitle(f\"Cluster 6\\n{cluster_6['size']} molecules\", fontsize=16)\n",
        "\n",
        "# Draw each molecule\n",
        "for i, smiles in enumerate(simplified_smiles):\n",
        "    # Parse the SMILES string\n",
        "    mol = Chem.MolFromSmiles(smiles)\n",
        "    if mol:\n",
        "        # Compute 2D coordinates\n",
        "        AllChem.Compute2DCoords(mol)\n",
        "\n",
        "        # Draw the molecule\n",
        "        img = Draw.MolToImage(mol, size=(400, 300))\n",
        "        axes[i].imshow(img)\n",
        "        axes[i].axis('off')\n",
        "\n",
        "        # Add properties text from original data\n",
        "        if i < len(cluster_6['representatives']):\n",
        "            props = cluster_6['representatives'][i]['properties']\n",
        "            prop_text = f\"HBA: {props['HBA']}\\nHBD: {props['HBD']}\\nLogP: {props['LogP']:.1f}\\nMW: {props['MW']:.1f}\\nTPSA: {props['TPSA']:.1f}\"\n",
        "\n",
        "            axes[i].text(0.5, 1.05, prop_text, transform=axes[i].transAxes,\n",
        "                        ha='center', va='top', fontsize=11)\n",
        "    else:\n",
        "        axes[i].text(0.5, 0.5, f\"Failed to parse: {smiles[:20]}...\",\n",
        "                    ha='center', va='center', fontsize=10)\n",
        "        axes[i].set_xlim(0, 1)\n",
        "        axes[i].set_ylim(0, 1)\n",
        "        axes[i].axis('on')\n",
        "\n",
        "# Add colorbar\n",
        "cax = fig.add_axes([0.92, 0.15, 0.02, 0.7])\n",
        "sm = plt.cm.ScalarMappable(cmap=cm)\n",
        "sm.set_array([])\n",
        "fig.colorbar(sm, cax=cax)\n",
        "\n",
        "plt.tight_layout(rect=[0, 0, 0.9, 0.95])\n",
        "plt.savefig('cluster_6_fixed.png', dpi=300, bbox_inches='tight')\n",
        "plt.close()\n",
        "\n",
        "print(\"Successfully created fixed visualization for cluster 6 with simplified SMILES\")"
      ]
    },
    {
      "cell_type": "code",
      "source": [
        "from google.colab import files\n",
        "import shutil\n",
        "\n",
        "# Zip the output folder\n",
        "shutil.make_archive('cluster_visualizations', 'zip', './visualization_files')\n",
        "\n",
        "# Download the zip file\n",
        "files.download('cluster_visualizations.zip')"
      ],
      "metadata": {
        "colab": {
          "base_uri": "https://localhost:8080/",
          "height": 349
        },
        "id": "2-zoojMtkVbF",
        "outputId": "343c8bff-1e23-428d-92f3-7ad421e33904"
      },
      "execution_count": 7,
      "outputs": [
        {
          "output_type": "error",
          "ename": "FileNotFoundError",
          "evalue": "[Errno 2] No such file or directory: './visualization_files'",
          "traceback": [
            "\u001b[0;31m---------------------------------------------------------------------------\u001b[0m",
            "\u001b[0;31mFileNotFoundError\u001b[0m                         Traceback (most recent call last)",
            "\u001b[0;32m<ipython-input-7-dca41eeea7da>\u001b[0m in \u001b[0;36m<cell line: 0>\u001b[0;34m()\u001b[0m\n\u001b[1;32m      3\u001b[0m \u001b[0;34m\u001b[0m\u001b[0m\n\u001b[1;32m      4\u001b[0m \u001b[0;31m# Zip the output folder\u001b[0m\u001b[0;34m\u001b[0m\u001b[0;34m\u001b[0m\u001b[0m\n\u001b[0;32m----> 5\u001b[0;31m \u001b[0mshutil\u001b[0m\u001b[0;34m.\u001b[0m\u001b[0mmake_archive\u001b[0m\u001b[0;34m(\u001b[0m\u001b[0;34m'cluster_visualizations'\u001b[0m\u001b[0;34m,\u001b[0m \u001b[0;34m'zip'\u001b[0m\u001b[0;34m,\u001b[0m \u001b[0;34m'./visualization_files'\u001b[0m\u001b[0;34m)\u001b[0m\u001b[0;34m\u001b[0m\u001b[0;34m\u001b[0m\u001b[0m\n\u001b[0m\u001b[1;32m      6\u001b[0m \u001b[0;34m\u001b[0m\u001b[0m\n\u001b[1;32m      7\u001b[0m \u001b[0;31m# Download the zip file\u001b[0m\u001b[0;34m\u001b[0m\u001b[0;34m\u001b[0m\u001b[0m\n",
            "\u001b[0;32m/usr/lib/python3.11/shutil.py\u001b[0m in \u001b[0;36mmake_archive\u001b[0;34m(base_name, format, root_dir, base_dir, verbose, dry_run, owner, group, logger)\u001b[0m\n\u001b[1;32m   1146\u001b[0m     \u001b[0msave_cwd\u001b[0m \u001b[0;34m=\u001b[0m \u001b[0;32mNone\u001b[0m\u001b[0;34m\u001b[0m\u001b[0;34m\u001b[0m\u001b[0m\n\u001b[1;32m   1147\u001b[0m     \u001b[0;32mif\u001b[0m \u001b[0mroot_dir\u001b[0m \u001b[0;32mis\u001b[0m \u001b[0;32mnot\u001b[0m \u001b[0;32mNone\u001b[0m\u001b[0;34m:\u001b[0m\u001b[0;34m\u001b[0m\u001b[0;34m\u001b[0m\u001b[0m\n\u001b[0;32m-> 1148\u001b[0;31m         \u001b[0mstmd\u001b[0m \u001b[0;34m=\u001b[0m \u001b[0mos\u001b[0m\u001b[0;34m.\u001b[0m\u001b[0mstat\u001b[0m\u001b[0;34m(\u001b[0m\u001b[0mroot_dir\u001b[0m\u001b[0;34m)\u001b[0m\u001b[0;34m.\u001b[0m\u001b[0mst_mode\u001b[0m\u001b[0;34m\u001b[0m\u001b[0;34m\u001b[0m\u001b[0m\n\u001b[0m\u001b[1;32m   1149\u001b[0m         \u001b[0;32mif\u001b[0m \u001b[0;32mnot\u001b[0m \u001b[0mstat\u001b[0m\u001b[0;34m.\u001b[0m\u001b[0mS_ISDIR\u001b[0m\u001b[0;34m(\u001b[0m\u001b[0mstmd\u001b[0m\u001b[0;34m)\u001b[0m\u001b[0;34m:\u001b[0m\u001b[0;34m\u001b[0m\u001b[0;34m\u001b[0m\u001b[0m\n\u001b[1;32m   1150\u001b[0m             \u001b[0;32mraise\u001b[0m \u001b[0mNotADirectoryError\u001b[0m\u001b[0;34m(\u001b[0m\u001b[0merrno\u001b[0m\u001b[0;34m.\u001b[0m\u001b[0mENOTDIR\u001b[0m\u001b[0;34m,\u001b[0m \u001b[0;34m'Not a directory'\u001b[0m\u001b[0;34m,\u001b[0m \u001b[0mroot_dir\u001b[0m\u001b[0;34m)\u001b[0m\u001b[0;34m\u001b[0m\u001b[0;34m\u001b[0m\u001b[0m\n",
            "\u001b[0;31mFileNotFoundError\u001b[0m: [Errno 2] No such file or directory: './visualization_files'"
          ]
        }
      ]
    }
  ]
}